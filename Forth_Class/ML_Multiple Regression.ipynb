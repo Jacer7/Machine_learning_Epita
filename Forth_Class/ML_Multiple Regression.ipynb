{
 "cells": [
  {
   "cell_type": "markdown",
   "metadata": {},
   "source": [
    "# ML Course 4 - Practice (multiple and polynomial regressions)"
   ]
  },
  {
   "cell_type": "markdown",
   "metadata": {},
   "source": [
    "## Subject"
   ]
  },
  {
   "cell_type": "markdown",
   "metadata": {},
   "source": [
    "We will use here the same data set as for practice #3."
   ]
  },
  {
   "cell_type": "markdown",
   "metadata": {},
   "source": [
    "**`FuelConsumption.csv`** is a vehicle fuel consumption data set that contains model-specific fuel consumption.\n",
    "-   **MODELYEAR** e.g. 2014\n",
    "-   **MAKE** e.g. Acura\n",
    "-   **MODEL** e.g. ILX\n",
    "-   **VEHICLE CLASS** e.g. SUV\n",
    "-   **ENGINE SIZE** e.g. 4.7\n",
    "-   **CYLINDERS** e.g 6\n",
    "-   **TRANSMISSION** e.g. A6\n",
    "-   **FUEL CONSUMPTION in CITY(L/100 km)** e.g. 9.9\n",
    "-   **FUEL CONSUMPTION in HWY (L/100 km)** e.g. 8.9\n",
    "-   **FUEL CONSUMPTION COMB (L/100 km)** e.g. 9.2\n",
    "-   **CO2 EMISSIONS (g/km)** e.g. 182   --> low --> 0"
   ]
  },
  {
   "cell_type": "code",
   "execution_count": 7,
   "metadata": {},
   "outputs": [],
   "source": [
    "import numpy as np\n",
    "import matplotlib.pyplot as plt\n",
    "import pandas as pd\n",
    "import sklearn "
   ]
  },
  {
   "cell_type": "code",
   "execution_count": 8,
   "metadata": {},
   "outputs": [],
   "source": [
    "data = pd.read_csv(\"FuelConsumption.csv\")"
   ]
  },
  {
   "cell_type": "code",
   "execution_count": 9,
   "metadata": {
    "scrolled": true
   },
   "outputs": [
    {
     "data": {
      "text/html": [
       "<div>\n",
       "<style scoped>\n",
       "    .dataframe tbody tr th:only-of-type {\n",
       "        vertical-align: middle;\n",
       "    }\n",
       "\n",
       "    .dataframe tbody tr th {\n",
       "        vertical-align: top;\n",
       "    }\n",
       "\n",
       "    .dataframe thead th {\n",
       "        text-align: right;\n",
       "    }\n",
       "</style>\n",
       "<table border=\"1\" class=\"dataframe\">\n",
       "  <thead>\n",
       "    <tr style=\"text-align: right;\">\n",
       "      <th></th>\n",
       "      <th>MODELYEAR</th>\n",
       "      <th>MAKE</th>\n",
       "      <th>MODEL</th>\n",
       "      <th>VEHICLECLASS</th>\n",
       "      <th>ENGINESIZE</th>\n",
       "      <th>CYLINDERS</th>\n",
       "      <th>TRANSMISSION</th>\n",
       "      <th>FUELTYPE</th>\n",
       "      <th>FUELCONSUMPTION_CITY</th>\n",
       "      <th>FUELCONSUMPTION_HWY</th>\n",
       "      <th>FUELCONSUMPTION_COMB</th>\n",
       "      <th>FUELCONSUMPTION_COMB_MPG</th>\n",
       "      <th>CO2EMISSIONS</th>\n",
       "    </tr>\n",
       "  </thead>\n",
       "  <tbody>\n",
       "    <tr>\n",
       "      <th>956</th>\n",
       "      <td>2014</td>\n",
       "      <td>SUBARU</td>\n",
       "      <td>LEGACY AWD</td>\n",
       "      <td>MID-SIZE</td>\n",
       "      <td>2.5</td>\n",
       "      <td>4</td>\n",
       "      <td>M6</td>\n",
       "      <td>X</td>\n",
       "      <td>11.3</td>\n",
       "      <td>8.2</td>\n",
       "      <td>9.9</td>\n",
       "      <td>29</td>\n",
       "      <td>228</td>\n",
       "    </tr>\n",
       "    <tr>\n",
       "      <th>455</th>\n",
       "      <td>2014</td>\n",
       "      <td>GMC</td>\n",
       "      <td>SIERRA</td>\n",
       "      <td>PICKUP TRUCK - STANDARD</td>\n",
       "      <td>5.3</td>\n",
       "      <td>8</td>\n",
       "      <td>A6</td>\n",
       "      <td>X</td>\n",
       "      <td>14.6</td>\n",
       "      <td>10.3</td>\n",
       "      <td>12.7</td>\n",
       "      <td>22</td>\n",
       "      <td>292</td>\n",
       "    </tr>\n",
       "    <tr>\n",
       "      <th>1035</th>\n",
       "      <td>2014</td>\n",
       "      <td>VOLKSWAGEN</td>\n",
       "      <td>JETTA</td>\n",
       "      <td>COMPACT</td>\n",
       "      <td>1.8</td>\n",
       "      <td>4</td>\n",
       "      <td>M5</td>\n",
       "      <td>X</td>\n",
       "      <td>9.4</td>\n",
       "      <td>6.7</td>\n",
       "      <td>8.2</td>\n",
       "      <td>34</td>\n",
       "      <td>189</td>\n",
       "    </tr>\n",
       "    <tr>\n",
       "      <th>177</th>\n",
       "      <td>2014</td>\n",
       "      <td>CADILLAC</td>\n",
       "      <td>CTS-V SPORT WAGON</td>\n",
       "      <td>STATION WAGON - SMALL</td>\n",
       "      <td>6.2</td>\n",
       "      <td>8</td>\n",
       "      <td>AS6</td>\n",
       "      <td>Z</td>\n",
       "      <td>19.7</td>\n",
       "      <td>12.9</td>\n",
       "      <td>16.6</td>\n",
       "      <td>17</td>\n",
       "      <td>382</td>\n",
       "    </tr>\n",
       "    <tr>\n",
       "      <th>284</th>\n",
       "      <td>2014</td>\n",
       "      <td>CHRYSLER</td>\n",
       "      <td>300 AWD</td>\n",
       "      <td>FULL-SIZE</td>\n",
       "      <td>3.6</td>\n",
       "      <td>6</td>\n",
       "      <td>A8</td>\n",
       "      <td>X</td>\n",
       "      <td>12.8</td>\n",
       "      <td>8.6</td>\n",
       "      <td>10.9</td>\n",
       "      <td>26</td>\n",
       "      <td>251</td>\n",
       "    </tr>\n",
       "    <tr>\n",
       "      <th>245</th>\n",
       "      <td>2014</td>\n",
       "      <td>CHEVROLET</td>\n",
       "      <td>SILVERADO 4WD</td>\n",
       "      <td>PICKUP TRUCK - STANDARD</td>\n",
       "      <td>5.3</td>\n",
       "      <td>8</td>\n",
       "      <td>A6</td>\n",
       "      <td>E</td>\n",
       "      <td>19.9</td>\n",
       "      <td>14.2</td>\n",
       "      <td>17.3</td>\n",
       "      <td>16</td>\n",
       "      <td>277</td>\n",
       "    </tr>\n",
       "  </tbody>\n",
       "</table>\n",
       "</div>"
      ],
      "text/plain": [
       "      MODELYEAR        MAKE              MODEL             VEHICLECLASS  \\\n",
       "956        2014      SUBARU         LEGACY AWD                 MID-SIZE   \n",
       "455        2014         GMC             SIERRA  PICKUP TRUCK - STANDARD   \n",
       "1035       2014  VOLKSWAGEN              JETTA                  COMPACT   \n",
       "177        2014    CADILLAC  CTS-V SPORT WAGON    STATION WAGON - SMALL   \n",
       "284        2014    CHRYSLER            300 AWD                FULL-SIZE   \n",
       "245        2014   CHEVROLET      SILVERADO 4WD  PICKUP TRUCK - STANDARD   \n",
       "\n",
       "      ENGINESIZE  CYLINDERS TRANSMISSION FUELTYPE  FUELCONSUMPTION_CITY  \\\n",
       "956          2.5          4           M6        X                  11.3   \n",
       "455          5.3          8           A6        X                  14.6   \n",
       "1035         1.8          4           M5        X                   9.4   \n",
       "177          6.2          8          AS6        Z                  19.7   \n",
       "284          3.6          6           A8        X                  12.8   \n",
       "245          5.3          8           A6        E                  19.9   \n",
       "\n",
       "      FUELCONSUMPTION_HWY  FUELCONSUMPTION_COMB  FUELCONSUMPTION_COMB_MPG  \\\n",
       "956                   8.2                   9.9                        29   \n",
       "455                  10.3                  12.7                        22   \n",
       "1035                  6.7                   8.2                        34   \n",
       "177                  12.9                  16.6                        17   \n",
       "284                   8.6                  10.9                        26   \n",
       "245                  14.2                  17.3                        16   \n",
       "\n",
       "      CO2EMISSIONS  \n",
       "956            228  \n",
       "455            292  \n",
       "1035           189  \n",
       "177            382  \n",
       "284            251  \n",
       "245            277  "
      ]
     },
     "execution_count": 9,
     "metadata": {},
     "output_type": "execute_result"
    }
   ],
   "source": [
    "data.sample(6)"
   ]
  },
  {
   "cell_type": "code",
   "execution_count": 10,
   "metadata": {},
   "outputs": [
    {
     "data": {
      "text/html": [
       "<div>\n",
       "<style scoped>\n",
       "    .dataframe tbody tr th:only-of-type {\n",
       "        vertical-align: middle;\n",
       "    }\n",
       "\n",
       "    .dataframe tbody tr th {\n",
       "        vertical-align: top;\n",
       "    }\n",
       "\n",
       "    .dataframe thead th {\n",
       "        text-align: right;\n",
       "    }\n",
       "</style>\n",
       "<table border=\"1\" class=\"dataframe\">\n",
       "  <thead>\n",
       "    <tr style=\"text-align: right;\">\n",
       "      <th></th>\n",
       "      <th>MODELYEAR</th>\n",
       "      <th>MAKE</th>\n",
       "      <th>MODEL</th>\n",
       "      <th>VEHICLECLASS</th>\n",
       "      <th>ENGINESIZE</th>\n",
       "      <th>CYLINDERS</th>\n",
       "      <th>TRANSMISSION</th>\n",
       "      <th>FUELTYPE</th>\n",
       "      <th>FUELCONSUMPTION_CITY</th>\n",
       "      <th>FUELCONSUMPTION_HWY</th>\n",
       "      <th>FUELCONSUMPTION_COMB</th>\n",
       "      <th>FUELCONSUMPTION_COMB_MPG</th>\n",
       "      <th>CO2EMISSIONS</th>\n",
       "    </tr>\n",
       "  </thead>\n",
       "  <tbody>\n",
       "    <tr>\n",
       "      <th>753</th>\n",
       "      <td>2014</td>\n",
       "      <td>MERCEDES-BENZ</td>\n",
       "      <td>E 63 AMG S 4MATIC WAGON</td>\n",
       "      <td>STATION WAGON - MID-SIZE</td>\n",
       "      <td>5.5</td>\n",
       "      <td>8</td>\n",
       "      <td>AS7</td>\n",
       "      <td>Z</td>\n",
       "      <td>15.5</td>\n",
       "      <td>11.0</td>\n",
       "      <td>13.5</td>\n",
       "      <td>21</td>\n",
       "      <td>310</td>\n",
       "    </tr>\n",
       "    <tr>\n",
       "      <th>577</th>\n",
       "      <td>2014</td>\n",
       "      <td>JEEP</td>\n",
       "      <td>COMPASS</td>\n",
       "      <td>SUV - SMALL</td>\n",
       "      <td>2.0</td>\n",
       "      <td>4</td>\n",
       "      <td>A6</td>\n",
       "      <td>X</td>\n",
       "      <td>11.1</td>\n",
       "      <td>8.3</td>\n",
       "      <td>9.8</td>\n",
       "      <td>29</td>\n",
       "      <td>225</td>\n",
       "    </tr>\n",
       "    <tr>\n",
       "      <th>242</th>\n",
       "      <td>2014</td>\n",
       "      <td>CHEVROLET</td>\n",
       "      <td>SILVERADO 4WD</td>\n",
       "      <td>PICKUP TRUCK - STANDARD</td>\n",
       "      <td>4.3</td>\n",
       "      <td>6</td>\n",
       "      <td>A6</td>\n",
       "      <td>X</td>\n",
       "      <td>14.2</td>\n",
       "      <td>10.6</td>\n",
       "      <td>12.6</td>\n",
       "      <td>22</td>\n",
       "      <td>290</td>\n",
       "    </tr>\n",
       "    <tr>\n",
       "      <th>185</th>\n",
       "      <td>2014</td>\n",
       "      <td>CADILLAC</td>\n",
       "      <td>XTS</td>\n",
       "      <td>FULL-SIZE</td>\n",
       "      <td>3.6</td>\n",
       "      <td>6</td>\n",
       "      <td>AS6</td>\n",
       "      <td>X</td>\n",
       "      <td>13.6</td>\n",
       "      <td>8.6</td>\n",
       "      <td>11.4</td>\n",
       "      <td>25</td>\n",
       "      <td>262</td>\n",
       "    </tr>\n",
       "    <tr>\n",
       "      <th>385</th>\n",
       "      <td>2014</td>\n",
       "      <td>FORD</td>\n",
       "      <td>F150 FFV 4X4</td>\n",
       "      <td>PICKUP TRUCK - STANDARD</td>\n",
       "      <td>3.7</td>\n",
       "      <td>6</td>\n",
       "      <td>AS6</td>\n",
       "      <td>X</td>\n",
       "      <td>15.0</td>\n",
       "      <td>11.4</td>\n",
       "      <td>13.4</td>\n",
       "      <td>21</td>\n",
       "      <td>308</td>\n",
       "    </tr>\n",
       "    <tr>\n",
       "      <th>268</th>\n",
       "      <td>2014</td>\n",
       "      <td>CHEVROLET</td>\n",
       "      <td>TAHOE 4WD</td>\n",
       "      <td>SUV - STANDARD</td>\n",
       "      <td>5.3</td>\n",
       "      <td>8</td>\n",
       "      <td>A6</td>\n",
       "      <td>E</td>\n",
       "      <td>21.5</td>\n",
       "      <td>14.6</td>\n",
       "      <td>18.4</td>\n",
       "      <td>15</td>\n",
       "      <td>294</td>\n",
       "    </tr>\n",
       "  </tbody>\n",
       "</table>\n",
       "</div>"
      ],
      "text/plain": [
       "     MODELYEAR           MAKE                    MODEL  \\\n",
       "753       2014  MERCEDES-BENZ  E 63 AMG S 4MATIC WAGON   \n",
       "577       2014           JEEP                  COMPASS   \n",
       "242       2014      CHEVROLET            SILVERADO 4WD   \n",
       "185       2014       CADILLAC                      XTS   \n",
       "385       2014           FORD             F150 FFV 4X4   \n",
       "268       2014      CHEVROLET                TAHOE 4WD   \n",
       "\n",
       "                 VEHICLECLASS  ENGINESIZE  CYLINDERS TRANSMISSION FUELTYPE  \\\n",
       "753  STATION WAGON - MID-SIZE         5.5          8          AS7        Z   \n",
       "577               SUV - SMALL         2.0          4           A6        X   \n",
       "242   PICKUP TRUCK - STANDARD         4.3          6           A6        X   \n",
       "185                 FULL-SIZE         3.6          6          AS6        X   \n",
       "385   PICKUP TRUCK - STANDARD         3.7          6          AS6        X   \n",
       "268            SUV - STANDARD         5.3          8           A6        E   \n",
       "\n",
       "     FUELCONSUMPTION_CITY  FUELCONSUMPTION_HWY  FUELCONSUMPTION_COMB  \\\n",
       "753                  15.5                 11.0                  13.5   \n",
       "577                  11.1                  8.3                   9.8   \n",
       "242                  14.2                 10.6                  12.6   \n",
       "185                  13.6                  8.6                  11.4   \n",
       "385                  15.0                 11.4                  13.4   \n",
       "268                  21.5                 14.6                  18.4   \n",
       "\n",
       "     FUELCONSUMPTION_COMB_MPG  CO2EMISSIONS  \n",
       "753                        21           310  \n",
       "577                        29           225  \n",
       "242                        22           290  \n",
       "185                        25           262  \n",
       "385                        21           308  \n",
       "268                        15           294  "
      ]
     },
     "execution_count": 10,
     "metadata": {},
     "output_type": "execute_result"
    }
   ],
   "source": [
    "#data = data.drop(['MODELYEAR'], axis=1)\n",
    "data.sample(6)"
   ]
  },
  {
   "cell_type": "markdown",
   "metadata": {},
   "source": [
    "* Make some plots of 'CYLINDERS', 'ENGINESIZE', 'FUELCONSUMPTION_COMB', with respect to 'CO2EMISSIONS'."
   ]
  },
  {
   "cell_type": "markdown",
   "metadata": {},
   "source": [
    "* Train a multiple linear regression with these three predictors. What are the coefficients associated with each predictor?"
   ]
  },
  {
   "cell_type": "markdown",
   "metadata": {},
   "source": [
    "* What is the accuracy of this model? What do you think, when compared with the accuracy of the linear regression with 'FUELCONSUMPTION_COMB' as single predictor (computed in last question of practice #3)?"
   ]
  },
  {
   "cell_type": "markdown",
   "metadata": {},
   "source": [
    "* 'FUELCONSUMPTION_CITY' is the urban consumption while FUELCONSUMPTION_HWY is the consumption on the highway. 'FUELCONSUMPTION_COMB' is the combined consumption and is computed as a weighted sum of 'FUELCONSUMPTION_CITY' and 'FUELCONSUMPTION_HWY' so to represent a standard driver behaviour. How are these three features correlated between each other?"
   ]
  },
  {
   "cell_type": "markdown",
   "metadata": {},
   "source": [
    "* Add 'FUELCONSUMPTION_CITY' and 'FUELCONSUMPTION_HWY' as additional predictors to your model of question #2. What is the gain of accuracy, and how do you interpret that?"
   ]
  },
  {
   "cell_type": "markdown",
   "metadata": {},
   "source": [
    "* Bonus (no penalty if not done): Plot 'CO2EMISSIONS' with respect to 'FUELCONSUMPTION_COMB' for each possible value of 'FUELTYPE' (i.e. plot the scatter dots with one distinct color for each value of 'FUELTYPE'). Do you think that 'FUELTYPE' and 'FUELCONSUMPTION_COMB' could be sufficient predictors for 'CO2EMISSIONS' estimation with a multiple linear regression model? Compute the accuracy."
   ]
  },
  {
   "cell_type": "markdown",
   "metadata": {},
   "source": [
    "Data Inspection"
   ]
  },
  {
   "cell_type": "code",
   "execution_count": 11,
   "metadata": {},
   "outputs": [
    {
     "data": {
      "text/html": [
       "<div>\n",
       "<style scoped>\n",
       "    .dataframe tbody tr th:only-of-type {\n",
       "        vertical-align: middle;\n",
       "    }\n",
       "\n",
       "    .dataframe tbody tr th {\n",
       "        vertical-align: top;\n",
       "    }\n",
       "\n",
       "    .dataframe thead th {\n",
       "        text-align: right;\n",
       "    }\n",
       "</style>\n",
       "<table border=\"1\" class=\"dataframe\">\n",
       "  <thead>\n",
       "    <tr style=\"text-align: right;\">\n",
       "      <th></th>\n",
       "      <th>MODELYEAR</th>\n",
       "      <th>ENGINESIZE</th>\n",
       "      <th>CYLINDERS</th>\n",
       "      <th>FUELCONSUMPTION_CITY</th>\n",
       "      <th>FUELCONSUMPTION_HWY</th>\n",
       "      <th>FUELCONSUMPTION_COMB</th>\n",
       "      <th>FUELCONSUMPTION_COMB_MPG</th>\n",
       "      <th>CO2EMISSIONS</th>\n",
       "    </tr>\n",
       "  </thead>\n",
       "  <tbody>\n",
       "    <tr>\n",
       "      <th>MODELYEAR</th>\n",
       "      <td>NaN</td>\n",
       "      <td>NaN</td>\n",
       "      <td>NaN</td>\n",
       "      <td>NaN</td>\n",
       "      <td>NaN</td>\n",
       "      <td>NaN</td>\n",
       "      <td>NaN</td>\n",
       "      <td>NaN</td>\n",
       "    </tr>\n",
       "    <tr>\n",
       "      <th>ENGINESIZE</th>\n",
       "      <td>NaN</td>\n",
       "      <td>1.000000</td>\n",
       "      <td>0.934011</td>\n",
       "      <td>0.832225</td>\n",
       "      <td>0.778746</td>\n",
       "      <td>0.819482</td>\n",
       "      <td>-0.808554</td>\n",
       "      <td>0.874154</td>\n",
       "    </tr>\n",
       "    <tr>\n",
       "      <th>CYLINDERS</th>\n",
       "      <td>NaN</td>\n",
       "      <td>0.934011</td>\n",
       "      <td>1.000000</td>\n",
       "      <td>0.796473</td>\n",
       "      <td>0.724594</td>\n",
       "      <td>0.776788</td>\n",
       "      <td>-0.770430</td>\n",
       "      <td>0.849685</td>\n",
       "    </tr>\n",
       "    <tr>\n",
       "      <th>FUELCONSUMPTION_CITY</th>\n",
       "      <td>NaN</td>\n",
       "      <td>0.832225</td>\n",
       "      <td>0.796473</td>\n",
       "      <td>1.000000</td>\n",
       "      <td>0.965718</td>\n",
       "      <td>0.995542</td>\n",
       "      <td>-0.935613</td>\n",
       "      <td>0.898039</td>\n",
       "    </tr>\n",
       "    <tr>\n",
       "      <th>FUELCONSUMPTION_HWY</th>\n",
       "      <td>NaN</td>\n",
       "      <td>0.778746</td>\n",
       "      <td>0.724594</td>\n",
       "      <td>0.965718</td>\n",
       "      <td>1.000000</td>\n",
       "      <td>0.985804</td>\n",
       "      <td>-0.893809</td>\n",
       "      <td>0.861748</td>\n",
       "    </tr>\n",
       "    <tr>\n",
       "      <th>FUELCONSUMPTION_COMB</th>\n",
       "      <td>NaN</td>\n",
       "      <td>0.819482</td>\n",
       "      <td>0.776788</td>\n",
       "      <td>0.995542</td>\n",
       "      <td>0.985804</td>\n",
       "      <td>1.000000</td>\n",
       "      <td>-0.927965</td>\n",
       "      <td>0.892129</td>\n",
       "    </tr>\n",
       "    <tr>\n",
       "      <th>FUELCONSUMPTION_COMB_MPG</th>\n",
       "      <td>NaN</td>\n",
       "      <td>-0.808554</td>\n",
       "      <td>-0.770430</td>\n",
       "      <td>-0.935613</td>\n",
       "      <td>-0.893809</td>\n",
       "      <td>-0.927965</td>\n",
       "      <td>1.000000</td>\n",
       "      <td>-0.906394</td>\n",
       "    </tr>\n",
       "    <tr>\n",
       "      <th>CO2EMISSIONS</th>\n",
       "      <td>NaN</td>\n",
       "      <td>0.874154</td>\n",
       "      <td>0.849685</td>\n",
       "      <td>0.898039</td>\n",
       "      <td>0.861748</td>\n",
       "      <td>0.892129</td>\n",
       "      <td>-0.906394</td>\n",
       "      <td>1.000000</td>\n",
       "    </tr>\n",
       "  </tbody>\n",
       "</table>\n",
       "</div>"
      ],
      "text/plain": [
       "                          MODELYEAR  ENGINESIZE  CYLINDERS  \\\n",
       "MODELYEAR                       NaN         NaN        NaN   \n",
       "ENGINESIZE                      NaN    1.000000   0.934011   \n",
       "CYLINDERS                       NaN    0.934011   1.000000   \n",
       "FUELCONSUMPTION_CITY            NaN    0.832225   0.796473   \n",
       "FUELCONSUMPTION_HWY             NaN    0.778746   0.724594   \n",
       "FUELCONSUMPTION_COMB            NaN    0.819482   0.776788   \n",
       "FUELCONSUMPTION_COMB_MPG        NaN   -0.808554  -0.770430   \n",
       "CO2EMISSIONS                    NaN    0.874154   0.849685   \n",
       "\n",
       "                          FUELCONSUMPTION_CITY  FUELCONSUMPTION_HWY  \\\n",
       "MODELYEAR                                  NaN                  NaN   \n",
       "ENGINESIZE                            0.832225             0.778746   \n",
       "CYLINDERS                             0.796473             0.724594   \n",
       "FUELCONSUMPTION_CITY                  1.000000             0.965718   \n",
       "FUELCONSUMPTION_HWY                   0.965718             1.000000   \n",
       "FUELCONSUMPTION_COMB                  0.995542             0.985804   \n",
       "FUELCONSUMPTION_COMB_MPG             -0.935613            -0.893809   \n",
       "CO2EMISSIONS                          0.898039             0.861748   \n",
       "\n",
       "                          FUELCONSUMPTION_COMB  FUELCONSUMPTION_COMB_MPG  \\\n",
       "MODELYEAR                                  NaN                       NaN   \n",
       "ENGINESIZE                            0.819482                 -0.808554   \n",
       "CYLINDERS                             0.776788                 -0.770430   \n",
       "FUELCONSUMPTION_CITY                  0.995542                 -0.935613   \n",
       "FUELCONSUMPTION_HWY                   0.985804                 -0.893809   \n",
       "FUELCONSUMPTION_COMB                  1.000000                 -0.927965   \n",
       "FUELCONSUMPTION_COMB_MPG             -0.927965                  1.000000   \n",
       "CO2EMISSIONS                          0.892129                 -0.906394   \n",
       "\n",
       "                          CO2EMISSIONS  \n",
       "MODELYEAR                          NaN  \n",
       "ENGINESIZE                    0.874154  \n",
       "CYLINDERS                     0.849685  \n",
       "FUELCONSUMPTION_CITY          0.898039  \n",
       "FUELCONSUMPTION_HWY           0.861748  \n",
       "FUELCONSUMPTION_COMB          0.892129  \n",
       "FUELCONSUMPTION_COMB_MPG     -0.906394  \n",
       "CO2EMISSIONS                  1.000000  "
      ]
     },
     "execution_count": 11,
     "metadata": {},
     "output_type": "execute_result"
    }
   ],
   "source": [
    "correlation = data.corr()\n",
    "correlation"
   ]
  },
  {
   "cell_type": "code",
   "execution_count": 12,
   "metadata": {},
   "outputs": [
    {
     "ename": "ValueError",
     "evalue": "The number of FixedLocator locations (8), usually from a call to set_ticks, does not match the number of ticklabels (13).",
     "output_type": "error",
     "traceback": [
      "\u001b[1;31m---------------------------------------------------------------------------\u001b[0m",
      "\u001b[1;31mValueError\u001b[0m                                Traceback (most recent call last)",
      "\u001b[1;32m<ipython-input-12-7368d53ec160>\u001b[0m in \u001b[0;36m<module>\u001b[1;34m\u001b[0m\n\u001b[0;32m      7\u001b[0m \u001b[0max\u001b[0m\u001b[1;33m.\u001b[0m\u001b[0mset_yticks\u001b[0m\u001b[1;33m(\u001b[0m\u001b[0mticks\u001b[0m\u001b[1;33m)\u001b[0m\u001b[1;33m;\u001b[0m\u001b[1;33m\u001b[0m\u001b[1;33m\u001b[0m\u001b[0m\n\u001b[0;32m      8\u001b[0m \u001b[0mnames\u001b[0m \u001b[1;33m=\u001b[0m \u001b[0mdata\u001b[0m\u001b[1;33m.\u001b[0m\u001b[0mcolumns\u001b[0m\u001b[1;33m\u001b[0m\u001b[1;33m\u001b[0m\u001b[0m\n\u001b[1;32m----> 9\u001b[1;33m \u001b[0max\u001b[0m\u001b[1;33m.\u001b[0m\u001b[0mset_xticklabels\u001b[0m\u001b[1;33m(\u001b[0m\u001b[0mnames\u001b[0m\u001b[1;33m)\u001b[0m\u001b[1;33m;\u001b[0m\u001b[1;33m\u001b[0m\u001b[1;33m\u001b[0m\u001b[0m\n\u001b[0m\u001b[0;32m     10\u001b[0m \u001b[0max\u001b[0m\u001b[1;33m.\u001b[0m\u001b[0mset_yticklabels\u001b[0m\u001b[1;33m(\u001b[0m\u001b[0mnames\u001b[0m\u001b[1;33m)\u001b[0m\u001b[1;33m;\u001b[0m\u001b[1;33m\u001b[0m\u001b[1;33m\u001b[0m\u001b[0m\n\u001b[0;32m     11\u001b[0m \u001b[0mplt\u001b[0m\u001b[1;33m.\u001b[0m\u001b[0mshow\u001b[0m\u001b[1;33m(\u001b[0m\u001b[1;33m)\u001b[0m\u001b[1;33m;\u001b[0m\u001b[1;33m\u001b[0m\u001b[1;33m\u001b[0m\u001b[0m\n",
      "\u001b[1;32mD:\\AnacondaPython\\lib\\site-packages\\matplotlib\\axes\\_base.py\u001b[0m in \u001b[0;36mwrapper\u001b[1;34m(self, *args, **kwargs)\u001b[0m\n\u001b[0;32m     71\u001b[0m \u001b[1;33m\u001b[0m\u001b[0m\n\u001b[0;32m     72\u001b[0m         \u001b[1;32mdef\u001b[0m \u001b[0mwrapper\u001b[0m\u001b[1;33m(\u001b[0m\u001b[0mself\u001b[0m\u001b[1;33m,\u001b[0m \u001b[1;33m*\u001b[0m\u001b[0margs\u001b[0m\u001b[1;33m,\u001b[0m \u001b[1;33m**\u001b[0m\u001b[0mkwargs\u001b[0m\u001b[1;33m)\u001b[0m\u001b[1;33m:\u001b[0m\u001b[1;33m\u001b[0m\u001b[1;33m\u001b[0m\u001b[0m\n\u001b[1;32m---> 73\u001b[1;33m             \u001b[1;32mreturn\u001b[0m \u001b[0mget_method\u001b[0m\u001b[1;33m(\u001b[0m\u001b[0mself\u001b[0m\u001b[1;33m)\u001b[0m\u001b[1;33m(\u001b[0m\u001b[1;33m*\u001b[0m\u001b[0margs\u001b[0m\u001b[1;33m,\u001b[0m \u001b[1;33m**\u001b[0m\u001b[0mkwargs\u001b[0m\u001b[1;33m)\u001b[0m\u001b[1;33m\u001b[0m\u001b[1;33m\u001b[0m\u001b[0m\n\u001b[0m\u001b[0;32m     74\u001b[0m \u001b[1;33m\u001b[0m\u001b[0m\n\u001b[0;32m     75\u001b[0m         \u001b[0mwrapper\u001b[0m\u001b[1;33m.\u001b[0m\u001b[0m__module__\u001b[0m \u001b[1;33m=\u001b[0m \u001b[0mowner\u001b[0m\u001b[1;33m.\u001b[0m\u001b[0m__module__\u001b[0m\u001b[1;33m\u001b[0m\u001b[1;33m\u001b[0m\u001b[0m\n",
      "\u001b[1;32mD:\\AnacondaPython\\lib\\site-packages\\matplotlib\\_api\\deprecation.py\u001b[0m in \u001b[0;36mwrapper\u001b[1;34m(*args, **kwargs)\u001b[0m\n\u001b[0;32m    469\u001b[0m                 \u001b[1;34m\"parameter will become keyword-only %(removal)s.\"\u001b[0m\u001b[1;33m,\u001b[0m\u001b[1;33m\u001b[0m\u001b[1;33m\u001b[0m\u001b[0m\n\u001b[0;32m    470\u001b[0m                 name=name, obj_type=f\"parameter of {func.__name__}()\")\n\u001b[1;32m--> 471\u001b[1;33m         \u001b[1;32mreturn\u001b[0m \u001b[0mfunc\u001b[0m\u001b[1;33m(\u001b[0m\u001b[1;33m*\u001b[0m\u001b[0margs\u001b[0m\u001b[1;33m,\u001b[0m \u001b[1;33m**\u001b[0m\u001b[0mkwargs\u001b[0m\u001b[1;33m)\u001b[0m\u001b[1;33m\u001b[0m\u001b[1;33m\u001b[0m\u001b[0m\n\u001b[0m\u001b[0;32m    472\u001b[0m \u001b[1;33m\u001b[0m\u001b[0m\n\u001b[0;32m    473\u001b[0m     \u001b[1;32mreturn\u001b[0m \u001b[0mwrapper\u001b[0m\u001b[1;33m\u001b[0m\u001b[1;33m\u001b[0m\u001b[0m\n",
      "\u001b[1;32mD:\\AnacondaPython\\lib\\site-packages\\matplotlib\\axis.py\u001b[0m in \u001b[0;36m_set_ticklabels\u001b[1;34m(self, labels, fontdict, minor, **kwargs)\u001b[0m\n\u001b[0;32m   1788\u001b[0m         \u001b[1;32mif\u001b[0m \u001b[0mfontdict\u001b[0m \u001b[1;32mis\u001b[0m \u001b[1;32mnot\u001b[0m \u001b[1;32mNone\u001b[0m\u001b[1;33m:\u001b[0m\u001b[1;33m\u001b[0m\u001b[1;33m\u001b[0m\u001b[0m\n\u001b[0;32m   1789\u001b[0m             \u001b[0mkwargs\u001b[0m\u001b[1;33m.\u001b[0m\u001b[0mupdate\u001b[0m\u001b[1;33m(\u001b[0m\u001b[0mfontdict\u001b[0m\u001b[1;33m)\u001b[0m\u001b[1;33m\u001b[0m\u001b[1;33m\u001b[0m\u001b[0m\n\u001b[1;32m-> 1790\u001b[1;33m         \u001b[1;32mreturn\u001b[0m \u001b[0mself\u001b[0m\u001b[1;33m.\u001b[0m\u001b[0mset_ticklabels\u001b[0m\u001b[1;33m(\u001b[0m\u001b[0mlabels\u001b[0m\u001b[1;33m,\u001b[0m \u001b[0mminor\u001b[0m\u001b[1;33m=\u001b[0m\u001b[0mminor\u001b[0m\u001b[1;33m,\u001b[0m \u001b[1;33m**\u001b[0m\u001b[0mkwargs\u001b[0m\u001b[1;33m)\u001b[0m\u001b[1;33m\u001b[0m\u001b[1;33m\u001b[0m\u001b[0m\n\u001b[0m\u001b[0;32m   1791\u001b[0m \u001b[1;33m\u001b[0m\u001b[0m\n\u001b[0;32m   1792\u001b[0m     \u001b[1;32mdef\u001b[0m \u001b[0mset_ticks\u001b[0m\u001b[1;33m(\u001b[0m\u001b[0mself\u001b[0m\u001b[1;33m,\u001b[0m \u001b[0mticks\u001b[0m\u001b[1;33m,\u001b[0m \u001b[1;33m*\u001b[0m\u001b[1;33m,\u001b[0m \u001b[0mminor\u001b[0m\u001b[1;33m=\u001b[0m\u001b[1;32mFalse\u001b[0m\u001b[1;33m)\u001b[0m\u001b[1;33m:\u001b[0m\u001b[1;33m\u001b[0m\u001b[1;33m\u001b[0m\u001b[0m\n",
      "\u001b[1;32mD:\\AnacondaPython\\lib\\site-packages\\matplotlib\\axis.py\u001b[0m in \u001b[0;36mset_ticklabels\u001b[1;34m(self, ticklabels, minor, **kwargs)\u001b[0m\n\u001b[0;32m   1709\u001b[0m             \u001b[1;31m# remove all tick labels, so only error for > 0 ticklabels\u001b[0m\u001b[1;33m\u001b[0m\u001b[1;33m\u001b[0m\u001b[1;33m\u001b[0m\u001b[0m\n\u001b[0;32m   1710\u001b[0m             \u001b[1;32mif\u001b[0m \u001b[0mlen\u001b[0m\u001b[1;33m(\u001b[0m\u001b[0mlocator\u001b[0m\u001b[1;33m.\u001b[0m\u001b[0mlocs\u001b[0m\u001b[1;33m)\u001b[0m \u001b[1;33m!=\u001b[0m \u001b[0mlen\u001b[0m\u001b[1;33m(\u001b[0m\u001b[0mticklabels\u001b[0m\u001b[1;33m)\u001b[0m \u001b[1;32mand\u001b[0m \u001b[0mlen\u001b[0m\u001b[1;33m(\u001b[0m\u001b[0mticklabels\u001b[0m\u001b[1;33m)\u001b[0m \u001b[1;33m!=\u001b[0m \u001b[1;36m0\u001b[0m\u001b[1;33m:\u001b[0m\u001b[1;33m\u001b[0m\u001b[1;33m\u001b[0m\u001b[0m\n\u001b[1;32m-> 1711\u001b[1;33m                 raise ValueError(\n\u001b[0m\u001b[0;32m   1712\u001b[0m                     \u001b[1;34m\"The number of FixedLocator locations\"\u001b[0m\u001b[1;33m\u001b[0m\u001b[1;33m\u001b[0m\u001b[0m\n\u001b[0;32m   1713\u001b[0m                     \u001b[1;34mf\" ({len(locator.locs)}), usually from a call to\"\u001b[0m\u001b[1;33m\u001b[0m\u001b[1;33m\u001b[0m\u001b[0m\n",
      "\u001b[1;31mValueError\u001b[0m: The number of FixedLocator locations (8), usually from a call to set_ticks, does not match the number of ticklabels (13)."
     ]
    },
    {
     "data": {
      "image/png": "[encoded data removed]",
      "text/plain": [
       "<Figure size 640x400 with 2 Axes>"
      ]
     },
     "metadata": {
      "needs_background": "light"
     },
     "output_type": "display_data"
    }
   ],
   "source": [
    "fig = plt.figure(figsize=(8,5), dpi= 80)\n",
    "ax = fig.add_subplot(1,1,1)\n",
    "cax = ax.matshow(correlation, cmap = plt.cm.coolwarm, vmin=-1, vmax=1)\n",
    "fig.colorbar(cax)\n",
    "ticks = np.arange(0,len(correlation))\n",
    "ax.set_xticks(ticks);\n",
    "ax.set_yticks(ticks);\n",
    "names = data.columns\n",
    "ax.set_xticklabels(names);\n",
    "ax.set_yticklabels(names);\n",
    "plt.show();"
   ]
  },
  {
   "cell_type": "code",
   "execution_count": 13,
   "metadata": {
    "scrolled": true
   },
   "outputs": [
    {
     "data": {
      "text/html": [
       "<div>\n",
       "<style scoped>\n",
       "    .dataframe tbody tr th:only-of-type {\n",
       "        vertical-align: middle;\n",
       "    }\n",
       "\n",
       "    .dataframe tbody tr th {\n",
       "        vertical-align: top;\n",
       "    }\n",
       "\n",
       "    .dataframe thead th {\n",
       "        text-align: right;\n",
       "    }\n",
       "</style>\n",
       "<table border=\"1\" class=\"dataframe\">\n",
       "  <thead>\n",
       "    <tr style=\"text-align: right;\">\n",
       "      <th></th>\n",
       "      <th>MODELYEAR</th>\n",
       "      <th>ENGINESIZE</th>\n",
       "      <th>CYLINDERS</th>\n",
       "      <th>FUELCONSUMPTION_CITY</th>\n",
       "      <th>FUELCONSUMPTION_HWY</th>\n",
       "      <th>FUELCONSUMPTION_COMB</th>\n",
       "      <th>FUELCONSUMPTION_COMB_MPG</th>\n",
       "      <th>CO2EMISSIONS</th>\n",
       "    </tr>\n",
       "  </thead>\n",
       "  <tbody>\n",
       "    <tr>\n",
       "      <th>MODELYEAR</th>\n",
       "      <td>NaN</td>\n",
       "      <td>NaN</td>\n",
       "      <td>NaN</td>\n",
       "      <td>NaN</td>\n",
       "      <td>NaN</td>\n",
       "      <td>NaN</td>\n",
       "      <td>NaN</td>\n",
       "      <td>NaN</td>\n",
       "    </tr>\n",
       "    <tr>\n",
       "      <th>ENGINESIZE</th>\n",
       "      <td>NaN</td>\n",
       "      <td>1.000000</td>\n",
       "      <td>0.934011</td>\n",
       "      <td>0.832225</td>\n",
       "      <td>0.778746</td>\n",
       "      <td>0.819482</td>\n",
       "      <td>-0.808554</td>\n",
       "      <td>0.874154</td>\n",
       "    </tr>\n",
       "    <tr>\n",
       "      <th>CYLINDERS</th>\n",
       "      <td>NaN</td>\n",
       "      <td>0.934011</td>\n",
       "      <td>1.000000</td>\n",
       "      <td>0.796473</td>\n",
       "      <td>0.724594</td>\n",
       "      <td>0.776788</td>\n",
       "      <td>-0.770430</td>\n",
       "      <td>0.849685</td>\n",
       "    </tr>\n",
       "    <tr>\n",
       "      <th>FUELCONSUMPTION_CITY</th>\n",
       "      <td>NaN</td>\n",
       "      <td>0.832225</td>\n",
       "      <td>0.796473</td>\n",
       "      <td>1.000000</td>\n",
       "      <td>0.965718</td>\n",
       "      <td>0.995542</td>\n",
       "      <td>-0.935613</td>\n",
       "      <td>0.898039</td>\n",
       "    </tr>\n",
       "    <tr>\n",
       "      <th>FUELCONSUMPTION_HWY</th>\n",
       "      <td>NaN</td>\n",
       "      <td>0.778746</td>\n",
       "      <td>0.724594</td>\n",
       "      <td>0.965718</td>\n",
       "      <td>1.000000</td>\n",
       "      <td>0.985804</td>\n",
       "      <td>-0.893809</td>\n",
       "      <td>0.861748</td>\n",
       "    </tr>\n",
       "    <tr>\n",
       "      <th>FUELCONSUMPTION_COMB</th>\n",
       "      <td>NaN</td>\n",
       "      <td>0.819482</td>\n",
       "      <td>0.776788</td>\n",
       "      <td>0.995542</td>\n",
       "      <td>0.985804</td>\n",
       "      <td>1.000000</td>\n",
       "      <td>-0.927965</td>\n",
       "      <td>0.892129</td>\n",
       "    </tr>\n",
       "    <tr>\n",
       "      <th>FUELCONSUMPTION_COMB_MPG</th>\n",
       "      <td>NaN</td>\n",
       "      <td>-0.808554</td>\n",
       "      <td>-0.770430</td>\n",
       "      <td>-0.935613</td>\n",
       "      <td>-0.893809</td>\n",
       "      <td>-0.927965</td>\n",
       "      <td>1.000000</td>\n",
       "      <td>-0.906394</td>\n",
       "    </tr>\n",
       "    <tr>\n",
       "      <th>CO2EMISSIONS</th>\n",
       "      <td>NaN</td>\n",
       "      <td>0.874154</td>\n",
       "      <td>0.849685</td>\n",
       "      <td>0.898039</td>\n",
       "      <td>0.861748</td>\n",
       "      <td>0.892129</td>\n",
       "      <td>-0.906394</td>\n",
       "      <td>1.000000</td>\n",
       "    </tr>\n",
       "  </tbody>\n",
       "</table>\n",
       "</div>"
      ],
      "text/plain": [
       "                          MODELYEAR  ENGINESIZE  CYLINDERS  \\\n",
       "MODELYEAR                       NaN         NaN        NaN   \n",
       "ENGINESIZE                      NaN    1.000000   0.934011   \n",
       "CYLINDERS                       NaN    0.934011   1.000000   \n",
       "FUELCONSUMPTION_CITY            NaN    0.832225   0.796473   \n",
       "FUELCONSUMPTION_HWY             NaN    0.778746   0.724594   \n",
       "FUELCONSUMPTION_COMB            NaN    0.819482   0.776788   \n",
       "FUELCONSUMPTION_COMB_MPG        NaN   -0.808554  -0.770430   \n",
       "CO2EMISSIONS                    NaN    0.874154   0.849685   \n",
       "\n",
       "                          FUELCONSUMPTION_CITY  FUELCONSUMPTION_HWY  \\\n",
       "MODELYEAR                                  NaN                  NaN   \n",
       "ENGINESIZE                            0.832225             0.778746   \n",
       "CYLINDERS                             0.796473             0.724594   \n",
       "FUELCONSUMPTION_CITY                  1.000000             0.965718   \n",
       "FUELCONSUMPTION_HWY                   0.965718             1.000000   \n",
       "FUELCONSUMPTION_COMB                  0.995542             0.985804   \n",
       "FUELCONSUMPTION_COMB_MPG             -0.935613            -0.893809   \n",
       "CO2EMISSIONS                          0.898039             0.861748   \n",
       "\n",
       "                          FUELCONSUMPTION_COMB  FUELCONSUMPTION_COMB_MPG  \\\n",
       "MODELYEAR                                  NaN                       NaN   \n",
       "ENGINESIZE                            0.819482                 -0.808554   \n",
       "CYLINDERS                             0.776788                 -0.770430   \n",
       "FUELCONSUMPTION_CITY                  0.995542                 -0.935613   \n",
       "FUELCONSUMPTION_HWY                   0.985804                 -0.893809   \n",
       "FUELCONSUMPTION_COMB                  1.000000                 -0.927965   \n",
       "FUELCONSUMPTION_COMB_MPG             -0.927965                  1.000000   \n",
       "CO2EMISSIONS                          0.892129                 -0.906394   \n",
       "\n",
       "                          CO2EMISSIONS  \n",
       "MODELYEAR                          NaN  \n",
       "ENGINESIZE                    0.874154  \n",
       "CYLINDERS                     0.849685  \n",
       "FUELCONSUMPTION_CITY          0.898039  \n",
       "FUELCONSUMPTION_HWY           0.861748  \n",
       "FUELCONSUMPTION_COMB          0.892129  \n",
       "FUELCONSUMPTION_COMB_MPG     -0.906394  \n",
       "CO2EMISSIONS                  1.000000  "
      ]
     },
     "execution_count": 13,
     "metadata": {},
     "output_type": "execute_result"
    }
   ],
   "source": [
    "correlation"
   ]
  },
  {
   "cell_type": "code",
   "execution_count": 14,
   "metadata": {
    "scrolled": true
   },
   "outputs": [],
   "source": [
    "correlation.style.background_gradient(cmap='coolwarm');"
   ]
  },
  {
   "cell_type": "code",
   "execution_count": 15,
   "metadata": {},
   "outputs": [
    {
     "data": {
      "text/html": [
       "<style  type=\"text/css\" >\n",
       "#T_fd66d740_df37_11eb_b6c3_0c7a15168b1crow0_col0,#T_fd66d740_df37_11eb_b6c3_0c7a15168b1crow0_col1,#T_fd66d740_df37_11eb_b6c3_0c7a15168b1crow0_col2,#T_fd66d740_df37_11eb_b6c3_0c7a15168b1crow0_col3,#T_fd66d740_df37_11eb_b6c3_0c7a15168b1crow0_col4,#T_fd66d740_df37_11eb_b6c3_0c7a15168b1crow0_col5,#T_fd66d740_df37_11eb_b6c3_0c7a15168b1crow0_col6,#T_fd66d740_df37_11eb_b6c3_0c7a15168b1crow0_col7,#T_fd66d740_df37_11eb_b6c3_0c7a15168b1crow1_col0,#T_fd66d740_df37_11eb_b6c3_0c7a15168b1crow1_col1,#T_fd66d740_df37_11eb_b6c3_0c7a15168b1crow1_col2,#T_fd66d740_df37_11eb_b6c3_0c7a15168b1crow1_col3,#T_fd66d740_df37_11eb_b6c3_0c7a15168b1crow1_col4,#T_fd66d740_df37_11eb_b6c3_0c7a15168b1crow1_col5,#T_fd66d740_df37_11eb_b6c3_0c7a15168b1crow1_col6,#T_fd66d740_df37_11eb_b6c3_0c7a15168b1crow1_col7,#T_fd66d740_df37_11eb_b6c3_0c7a15168b1crow2_col0,#T_fd66d740_df37_11eb_b6c3_0c7a15168b1crow2_col2,#T_fd66d740_df37_11eb_b6c3_0c7a15168b1crow2_col3,#T_fd66d740_df37_11eb_b6c3_0c7a15168b1crow2_col4,#T_fd66d740_df37_11eb_b6c3_0c7a15168b1crow2_col5,#T_fd66d740_df37_11eb_b6c3_0c7a15168b1crow2_col6,#T_fd66d740_df37_11eb_b6c3_0c7a15168b1crow2_col7,#T_fd66d740_df37_11eb_b6c3_0c7a15168b1crow3_col0,#T_fd66d740_df37_11eb_b6c3_0c7a15168b1crow3_col3,#T_fd66d740_df37_11eb_b6c3_0c7a15168b1crow3_col4,#T_fd66d740_df37_11eb_b6c3_0c7a15168b1crow3_col5,#T_fd66d740_df37_11eb_b6c3_0c7a15168b1crow3_col6,#T_fd66d740_df37_11eb_b6c3_0c7a15168b1crow3_col7,#T_fd66d740_df37_11eb_b6c3_0c7a15168b1crow4_col0,#T_fd66d740_df37_11eb_b6c3_0c7a15168b1crow4_col4,#T_fd66d740_df37_11eb_b6c3_0c7a15168b1crow4_col5,#T_fd66d740_df37_11eb_b6c3_0c7a15168b1crow4_col6,#T_fd66d740_df37_11eb_b6c3_0c7a15168b1crow4_col7,#T_fd66d740_df37_11eb_b6c3_0c7a15168b1crow5_col0,#T_fd66d740_df37_11eb_b6c3_0c7a15168b1crow5_col5,#T_fd66d740_df37_11eb_b6c3_0c7a15168b1crow5_col6,#T_fd66d740_df37_11eb_b6c3_0c7a15168b1crow5_col7,#T_fd66d740_df37_11eb_b6c3_0c7a15168b1crow6_col0,#T_fd66d740_df37_11eb_b6c3_0c7a15168b1crow6_col6,#T_fd66d740_df37_11eb_b6c3_0c7a15168b1crow6_col7,#T_fd66d740_df37_11eb_b6c3_0c7a15168b1crow7_col0,#T_fd66d740_df37_11eb_b6c3_0c7a15168b1crow7_col7{\n",
       "            background-color:  #000000;\n",
       "            color:  #f1f1f1;\n",
       "            background-color:  #f1f1f1;\n",
       "        }#T_fd66d740_df37_11eb_b6c3_0c7a15168b1crow2_col1{\n",
       "            background-color:  #c0282f;\n",
       "            color:  #f1f1f1;\n",
       "        }#T_fd66d740_df37_11eb_b6c3_0c7a15168b1crow3_col1{\n",
       "            background-color:  #d1493f;\n",
       "            color:  #f1f1f1;\n",
       "        }#T_fd66d740_df37_11eb_b6c3_0c7a15168b1crow3_col2{\n",
       "            background-color:  #d75445;\n",
       "            color:  #000000;\n",
       "        }#T_fd66d740_df37_11eb_b6c3_0c7a15168b1crow4_col1,#T_fd66d740_df37_11eb_b6c3_0c7a15168b1crow5_col2{\n",
       "            background-color:  #d95847;\n",
       "            color:  #000000;\n",
       "        }#T_fd66d740_df37_11eb_b6c3_0c7a15168b1crow4_col2{\n",
       "            background-color:  #e16751;\n",
       "            color:  #000000;\n",
       "        }#T_fd66d740_df37_11eb_b6c3_0c7a15168b1crow4_col3{\n",
       "            background-color:  #ba162b;\n",
       "            color:  #f1f1f1;\n",
       "        }#T_fd66d740_df37_11eb_b6c3_0c7a15168b1crow5_col1{\n",
       "            background-color:  #d44e41;\n",
       "            color:  #000000;\n",
       "        }#T_fd66d740_df37_11eb_b6c3_0c7a15168b1crow5_col3{\n",
       "            background-color:  #b40426;\n",
       "            color:  #f1f1f1;\n",
       "        }#T_fd66d740_df37_11eb_b6c3_0c7a15168b1crow5_col4{\n",
       "            background-color:  #b50927;\n",
       "            color:  #f1f1f1;\n",
       "        }#T_fd66d740_df37_11eb_b6c3_0c7a15168b1crow6_col1{\n",
       "            background-color:  #5875e1;\n",
       "            color:  #000000;\n",
       "        }#T_fd66d740_df37_11eb_b6c3_0c7a15168b1crow6_col2{\n",
       "            background-color:  #5e7de7;\n",
       "            color:  #000000;\n",
       "        }#T_fd66d740_df37_11eb_b6c3_0c7a15168b1crow6_col3{\n",
       "            background-color:  #445acc;\n",
       "            color:  #f1f1f1;\n",
       "        }#T_fd66d740_df37_11eb_b6c3_0c7a15168b1crow6_col4{\n",
       "            background-color:  #4a63d3;\n",
       "            color:  #f1f1f1;\n",
       "        }#T_fd66d740_df37_11eb_b6c3_0c7a15168b1crow6_col5{\n",
       "            background-color:  #455cce;\n",
       "            color:  #f1f1f1;\n",
       "        }#T_fd66d740_df37_11eb_b6c3_0c7a15168b1crow7_col1{\n",
       "            background-color:  #cb3e38;\n",
       "            color:  #f1f1f1;\n",
       "        }#T_fd66d740_df37_11eb_b6c3_0c7a15168b1crow7_col2{\n",
       "            background-color:  #cf453c;\n",
       "            color:  #f1f1f1;\n",
       "        }#T_fd66d740_df37_11eb_b6c3_0c7a15168b1crow7_col3,#T_fd66d740_df37_11eb_b6c3_0c7a15168b1crow7_col5{\n",
       "            background-color:  #c73635;\n",
       "            color:  #f1f1f1;\n",
       "        }#T_fd66d740_df37_11eb_b6c3_0c7a15168b1crow7_col4{\n",
       "            background-color:  #cc403a;\n",
       "            color:  #f1f1f1;\n",
       "        }#T_fd66d740_df37_11eb_b6c3_0c7a15168b1crow7_col6{\n",
       "            background-color:  #485fd1;\n",
       "            color:  #f1f1f1;\n",
       "        }</style><table id=\"T_fd66d740_df37_11eb_b6c3_0c7a15168b1c\" ><thead>    <tr>        <th class=\"blank level0\" ></th>        <th class=\"col_heading level0 col0\" >MODELYEAR</th>        <th class=\"col_heading level0 col1\" >ENGINESIZE</th>        <th class=\"col_heading level0 col2\" >CYLINDERS</th>        <th class=\"col_heading level0 col3\" >FUELCONSUMPTION_CITY</th>        <th class=\"col_heading level0 col4\" >FUELCONSUMPTION_HWY</th>        <th class=\"col_heading level0 col5\" >FUELCONSUMPTION_COMB</th>        <th class=\"col_heading level0 col6\" >FUELCONSUMPTION_COMB_MPG</th>        <th class=\"col_heading level0 col7\" >CO2EMISSIONS</th>    </tr></thead><tbody>\n",
       "                <tr>\n",
       "                        <th id=\"T_fd66d740_df37_11eb_b6c3_0c7a15168b1clevel0_row0\" class=\"row_heading level0 row0\" >MODELYEAR</th>\n",
       "                        <td id=\"T_fd66d740_df37_11eb_b6c3_0c7a15168b1crow0_col0\" class=\"data row0 col0\" >nan</td>\n",
       "                        <td id=\"T_fd66d740_df37_11eb_b6c3_0c7a15168b1crow0_col1\" class=\"data row0 col1\" >nan</td>\n",
       "                        <td id=\"T_fd66d740_df37_11eb_b6c3_0c7a15168b1crow0_col2\" class=\"data row0 col2\" >nan</td>\n",
       "                        <td id=\"T_fd66d740_df37_11eb_b6c3_0c7a15168b1crow0_col3\" class=\"data row0 col3\" >nan</td>\n",
       "                        <td id=\"T_fd66d740_df37_11eb_b6c3_0c7a15168b1crow0_col4\" class=\"data row0 col4\" >nan</td>\n",
       "                        <td id=\"T_fd66d740_df37_11eb_b6c3_0c7a15168b1crow0_col5\" class=\"data row0 col5\" >nan</td>\n",
       "                        <td id=\"T_fd66d740_df37_11eb_b6c3_0c7a15168b1crow0_col6\" class=\"data row0 col6\" >nan</td>\n",
       "                        <td id=\"T_fd66d740_df37_11eb_b6c3_0c7a15168b1crow0_col7\" class=\"data row0 col7\" >nan</td>\n",
       "            </tr>\n",
       "            <tr>\n",
       "                        <th id=\"T_fd66d740_df37_11eb_b6c3_0c7a15168b1clevel0_row1\" class=\"row_heading level0 row1\" >ENGINESIZE</th>\n",
       "                        <td id=\"T_fd66d740_df37_11eb_b6c3_0c7a15168b1crow1_col0\" class=\"data row1 col0\" >nan</td>\n",
       "                        <td id=\"T_fd66d740_df37_11eb_b6c3_0c7a15168b1crow1_col1\" class=\"data row1 col1\" >nan</td>\n",
       "                        <td id=\"T_fd66d740_df37_11eb_b6c3_0c7a15168b1crow1_col2\" class=\"data row1 col2\" >nan</td>\n",
       "                        <td id=\"T_fd66d740_df37_11eb_b6c3_0c7a15168b1crow1_col3\" class=\"data row1 col3\" >nan</td>\n",
       "                        <td id=\"T_fd66d740_df37_11eb_b6c3_0c7a15168b1crow1_col4\" class=\"data row1 col4\" >nan</td>\n",
       "                        <td id=\"T_fd66d740_df37_11eb_b6c3_0c7a15168b1crow1_col5\" class=\"data row1 col5\" >nan</td>\n",
       "                        <td id=\"T_fd66d740_df37_11eb_b6c3_0c7a15168b1crow1_col6\" class=\"data row1 col6\" >nan</td>\n",
       "                        <td id=\"T_fd66d740_df37_11eb_b6c3_0c7a15168b1crow1_col7\" class=\"data row1 col7\" >nan</td>\n",
       "            </tr>\n",
       "            <tr>\n",
       "                        <th id=\"T_fd66d740_df37_11eb_b6c3_0c7a15168b1clevel0_row2\" class=\"row_heading level0 row2\" >CYLINDERS</th>\n",
       "                        <td id=\"T_fd66d740_df37_11eb_b6c3_0c7a15168b1crow2_col0\" class=\"data row2 col0\" >nan</td>\n",
       "                        <td id=\"T_fd66d740_df37_11eb_b6c3_0c7a15168b1crow2_col1\" class=\"data row2 col1\" >0.93</td>\n",
       "                        <td id=\"T_fd66d740_df37_11eb_b6c3_0c7a15168b1crow2_col2\" class=\"data row2 col2\" >nan</td>\n",
       "                        <td id=\"T_fd66d740_df37_11eb_b6c3_0c7a15168b1crow2_col3\" class=\"data row2 col3\" >nan</td>\n",
       "                        <td id=\"T_fd66d740_df37_11eb_b6c3_0c7a15168b1crow2_col4\" class=\"data row2 col4\" >nan</td>\n",
       "                        <td id=\"T_fd66d740_df37_11eb_b6c3_0c7a15168b1crow2_col5\" class=\"data row2 col5\" >nan</td>\n",
       "                        <td id=\"T_fd66d740_df37_11eb_b6c3_0c7a15168b1crow2_col6\" class=\"data row2 col6\" >nan</td>\n",
       "                        <td id=\"T_fd66d740_df37_11eb_b6c3_0c7a15168b1crow2_col7\" class=\"data row2 col7\" >nan</td>\n",
       "            </tr>\n",
       "            <tr>\n",
       "                        <th id=\"T_fd66d740_df37_11eb_b6c3_0c7a15168b1clevel0_row3\" class=\"row_heading level0 row3\" >FUELCONSUMPTION_CITY</th>\n",
       "                        <td id=\"T_fd66d740_df37_11eb_b6c3_0c7a15168b1crow3_col0\" class=\"data row3 col0\" >nan</td>\n",
       "                        <td id=\"T_fd66d740_df37_11eb_b6c3_0c7a15168b1crow3_col1\" class=\"data row3 col1\" >0.83</td>\n",
       "                        <td id=\"T_fd66d740_df37_11eb_b6c3_0c7a15168b1crow3_col2\" class=\"data row3 col2\" >0.80</td>\n",
       "                        <td id=\"T_fd66d740_df37_11eb_b6c3_0c7a15168b1crow3_col3\" class=\"data row3 col3\" >nan</td>\n",
       "                        <td id=\"T_fd66d740_df37_11eb_b6c3_0c7a15168b1crow3_col4\" class=\"data row3 col4\" >nan</td>\n",
       "                        <td id=\"T_fd66d740_df37_11eb_b6c3_0c7a15168b1crow3_col5\" class=\"data row3 col5\" >nan</td>\n",
       "                        <td id=\"T_fd66d740_df37_11eb_b6c3_0c7a15168b1crow3_col6\" class=\"data row3 col6\" >nan</td>\n",
       "                        <td id=\"T_fd66d740_df37_11eb_b6c3_0c7a15168b1crow3_col7\" class=\"data row3 col7\" >nan</td>\n",
       "            </tr>\n",
       "            <tr>\n",
       "                        <th id=\"T_fd66d740_df37_11eb_b6c3_0c7a15168b1clevel0_row4\" class=\"row_heading level0 row4\" >FUELCONSUMPTION_HWY</th>\n",
       "                        <td id=\"T_fd66d740_df37_11eb_b6c3_0c7a15168b1crow4_col0\" class=\"data row4 col0\" >nan</td>\n",
       "                        <td id=\"T_fd66d740_df37_11eb_b6c3_0c7a15168b1crow4_col1\" class=\"data row4 col1\" >0.78</td>\n",
       "                        <td id=\"T_fd66d740_df37_11eb_b6c3_0c7a15168b1crow4_col2\" class=\"data row4 col2\" >0.72</td>\n",
       "                        <td id=\"T_fd66d740_df37_11eb_b6c3_0c7a15168b1crow4_col3\" class=\"data row4 col3\" >0.97</td>\n",
       "                        <td id=\"T_fd66d740_df37_11eb_b6c3_0c7a15168b1crow4_col4\" class=\"data row4 col4\" >nan</td>\n",
       "                        <td id=\"T_fd66d740_df37_11eb_b6c3_0c7a15168b1crow4_col5\" class=\"data row4 col5\" >nan</td>\n",
       "                        <td id=\"T_fd66d740_df37_11eb_b6c3_0c7a15168b1crow4_col6\" class=\"data row4 col6\" >nan</td>\n",
       "                        <td id=\"T_fd66d740_df37_11eb_b6c3_0c7a15168b1crow4_col7\" class=\"data row4 col7\" >nan</td>\n",
       "            </tr>\n",
       "            <tr>\n",
       "                        <th id=\"T_fd66d740_df37_11eb_b6c3_0c7a15168b1clevel0_row5\" class=\"row_heading level0 row5\" >FUELCONSUMPTION_COMB</th>\n",
       "                        <td id=\"T_fd66d740_df37_11eb_b6c3_0c7a15168b1crow5_col0\" class=\"data row5 col0\" >nan</td>\n",
       "                        <td id=\"T_fd66d740_df37_11eb_b6c3_0c7a15168b1crow5_col1\" class=\"data row5 col1\" >0.82</td>\n",
       "                        <td id=\"T_fd66d740_df37_11eb_b6c3_0c7a15168b1crow5_col2\" class=\"data row5 col2\" >0.78</td>\n",
       "                        <td id=\"T_fd66d740_df37_11eb_b6c3_0c7a15168b1crow5_col3\" class=\"data row5 col3\" >1.00</td>\n",
       "                        <td id=\"T_fd66d740_df37_11eb_b6c3_0c7a15168b1crow5_col4\" class=\"data row5 col4\" >0.99</td>\n",
       "                        <td id=\"T_fd66d740_df37_11eb_b6c3_0c7a15168b1crow5_col5\" class=\"data row5 col5\" >nan</td>\n",
       "                        <td id=\"T_fd66d740_df37_11eb_b6c3_0c7a15168b1crow5_col6\" class=\"data row5 col6\" >nan</td>\n",
       "                        <td id=\"T_fd66d740_df37_11eb_b6c3_0c7a15168b1crow5_col7\" class=\"data row5 col7\" >nan</td>\n",
       "            </tr>\n",
       "            <tr>\n",
       "                        <th id=\"T_fd66d740_df37_11eb_b6c3_0c7a15168b1clevel0_row6\" class=\"row_heading level0 row6\" >FUELCONSUMPTION_COMB_MPG</th>\n",
       "                        <td id=\"T_fd66d740_df37_11eb_b6c3_0c7a15168b1crow6_col0\" class=\"data row6 col0\" >nan</td>\n",
       "                        <td id=\"T_fd66d740_df37_11eb_b6c3_0c7a15168b1crow6_col1\" class=\"data row6 col1\" >-0.81</td>\n",
       "                        <td id=\"T_fd66d740_df37_11eb_b6c3_0c7a15168b1crow6_col2\" class=\"data row6 col2\" >-0.77</td>\n",
       "                        <td id=\"T_fd66d740_df37_11eb_b6c3_0c7a15168b1crow6_col3\" class=\"data row6 col3\" >-0.94</td>\n",
       "                        <td id=\"T_fd66d740_df37_11eb_b6c3_0c7a15168b1crow6_col4\" class=\"data row6 col4\" >-0.89</td>\n",
       "                        <td id=\"T_fd66d740_df37_11eb_b6c3_0c7a15168b1crow6_col5\" class=\"data row6 col5\" >-0.93</td>\n",
       "                        <td id=\"T_fd66d740_df37_11eb_b6c3_0c7a15168b1crow6_col6\" class=\"data row6 col6\" >nan</td>\n",
       "                        <td id=\"T_fd66d740_df37_11eb_b6c3_0c7a15168b1crow6_col7\" class=\"data row6 col7\" >nan</td>\n",
       "            </tr>\n",
       "            <tr>\n",
       "                        <th id=\"T_fd66d740_df37_11eb_b6c3_0c7a15168b1clevel0_row7\" class=\"row_heading level0 row7\" >CO2EMISSIONS</th>\n",
       "                        <td id=\"T_fd66d740_df37_11eb_b6c3_0c7a15168b1crow7_col0\" class=\"data row7 col0\" >nan</td>\n",
       "                        <td id=\"T_fd66d740_df37_11eb_b6c3_0c7a15168b1crow7_col1\" class=\"data row7 col1\" >0.87</td>\n",
       "                        <td id=\"T_fd66d740_df37_11eb_b6c3_0c7a15168b1crow7_col2\" class=\"data row7 col2\" >0.85</td>\n",
       "                        <td id=\"T_fd66d740_df37_11eb_b6c3_0c7a15168b1crow7_col3\" class=\"data row7 col3\" >0.90</td>\n",
       "                        <td id=\"T_fd66d740_df37_11eb_b6c3_0c7a15168b1crow7_col4\" class=\"data row7 col4\" >0.86</td>\n",
       "                        <td id=\"T_fd66d740_df37_11eb_b6c3_0c7a15168b1crow7_col5\" class=\"data row7 col5\" >0.89</td>\n",
       "                        <td id=\"T_fd66d740_df37_11eb_b6c3_0c7a15168b1crow7_col6\" class=\"data row7 col6\" >-0.91</td>\n",
       "                        <td id=\"T_fd66d740_df37_11eb_b6c3_0c7a15168b1crow7_col7\" class=\"data row7 col7\" >nan</td>\n",
       "            </tr>\n",
       "    </tbody></table>"
      ],
      "text/plain": [
       "<pandas.io.formats.style.Styler at 0x19c20822100>"
      ]
     },
     "execution_count": 15,
     "metadata": {},
     "output_type": "execute_result"
    }
   ],
   "source": [
    "mask = np.zeros_like(correlation, dtype=bool)\n",
    "mask[np.triu_indices_from(mask)] = True\n",
    "correlation[mask] = np.nan\n",
    "(correlation\n",
    " .style\n",
    " .background_gradient(cmap='coolwarm', axis=None, vmin=-1, vmax=1)\n",
    " .highlight_null(null_color='#f1f1f1')  # Color NaNs grey\n",
    " .set_precision(2))"
   ]
  },
  {
   "cell_type": "markdown",
   "metadata": {},
   "source": [
    "* Make some plots of 'CYLINDERS', 'ENGINESIZE', 'FUELCONSUMPTION_COMB', with respect to 'CO2EMISSIONS'."
   ]
  },
  {
   "cell_type": "code",
   "execution_count": 16,
   "metadata": {},
   "outputs": [
    {
     "data": {
      "image/png": "[encoded data removed]",
      "text/plain": [
       "<Figure size 800x480 with 1 Axes>"
      ]
     },
     "metadata": {
      "needs_background": "light"
     },
     "output_type": "display_data"
    }
   ],
   "source": [
    "plt.figure(figsize=(10,6), dpi= 80)\n",
    "plt.scatter(data['ENGINESIZE'], data['CO2EMISSIONS'], c='black')\n",
    "plt.xlabel(\"Engine Size\")\n",
    "plt.ylabel(\"Co2 Emission\")\n",
    "plt.show()"
   ]
  },
  {
   "cell_type": "code",
   "execution_count": 17,
   "metadata": {
    "scrolled": true
   },
   "outputs": [
    {
     "data": {
      "image/png": "[encoded data removed]",
      "text/plain": [
       "<Figure size 800x480 with 1 Axes>"
      ]
     },
     "metadata": {
      "needs_background": "light"
     },
     "output_type": "display_data"
    }
   ],
   "source": [
    "plt.figure(figsize=(10,6), dpi= 80)\n",
    "plt.scatter(data['CYLINDERS'], data['CO2EMISSIONS'], c='black')\n",
    "plt.xlabel(\"No. of Cylinders\")\n",
    "plt.ylabel(\"CO2EMISSIONS\")\n",
    "plt.show()"
   ]
  },
  {
   "cell_type": "code",
   "execution_count": 18,
   "metadata": {},
   "outputs": [
    {
     "data": {
      "image/png": "[encoded data removed]",
      "text/plain": [
       "<Figure size 800x480 with 1 Axes>"
      ]
     },
     "metadata": {
      "needs_background": "light"
     },
     "output_type": "display_data"
    }
   ],
   "source": [
    "plt.figure(figsize=(10,6), dpi= 80)\n",
    "plt.scatter(data['FUELCONSUMPTION_COMB'], data['CO2EMISSIONS'], c='black')\n",
    "plt.xlabel(\"Fuel Consumption\")\n",
    "plt.ylabel(\"CO2EMISSIONS\")\n",
    "plt.show()"
   ]
  },
  {
   "cell_type": "markdown",
   "metadata": {},
   "source": [
    "**Data Preparation**"
   ]
  },
  {
   "cell_type": "code",
   "execution_count": 21,
   "metadata": {
    "scrolled": true
   },
   "outputs": [
    {
     "data": {
      "text/html": [
       "<div>\n",
       "<style scoped>\n",
       "    .dataframe tbody tr th:only-of-type {\n",
       "        vertical-align: middle;\n",
       "    }\n",
       "\n",
       "    .dataframe tbody tr th {\n",
       "        vertical-align: top;\n",
       "    }\n",
       "\n",
       "    .dataframe thead th {\n",
       "        text-align: right;\n",
       "    }\n",
       "</style>\n",
       "<table border=\"1\" class=\"dataframe\">\n",
       "  <thead>\n",
       "    <tr style=\"text-align: right;\">\n",
       "      <th></th>\n",
       "      <th>ENGINESIZE</th>\n",
       "      <th>CYLINDERS</th>\n",
       "      <th>FUELCONSUMPTION_COMB</th>\n",
       "    </tr>\n",
       "  </thead>\n",
       "  <tbody>\n",
       "    <tr>\n",
       "      <th>0</th>\n",
       "      <td>2.0</td>\n",
       "      <td>4</td>\n",
       "      <td>8.5</td>\n",
       "    </tr>\n",
       "    <tr>\n",
       "      <th>1</th>\n",
       "      <td>2.4</td>\n",
       "      <td>4</td>\n",
       "      <td>9.6</td>\n",
       "    </tr>\n",
       "    <tr>\n",
       "      <th>2</th>\n",
       "      <td>1.5</td>\n",
       "      <td>4</td>\n",
       "      <td>5.9</td>\n",
       "    </tr>\n",
       "    <tr>\n",
       "      <th>3</th>\n",
       "      <td>3.5</td>\n",
       "      <td>6</td>\n",
       "      <td>11.1</td>\n",
       "    </tr>\n",
       "    <tr>\n",
       "      <th>4</th>\n",
       "      <td>3.5</td>\n",
       "      <td>6</td>\n",
       "      <td>10.6</td>\n",
       "    </tr>\n",
       "    <tr>\n",
       "      <th>...</th>\n",
       "      <td>...</td>\n",
       "      <td>...</td>\n",
       "      <td>...</td>\n",
       "    </tr>\n",
       "    <tr>\n",
       "      <th>1062</th>\n",
       "      <td>3.0</td>\n",
       "      <td>6</td>\n",
       "      <td>11.8</td>\n",
       "    </tr>\n",
       "    <tr>\n",
       "      <th>1063</th>\n",
       "      <td>3.2</td>\n",
       "      <td>6</td>\n",
       "      <td>11.5</td>\n",
       "    </tr>\n",
       "    <tr>\n",
       "      <th>1064</th>\n",
       "      <td>3.0</td>\n",
       "      <td>6</td>\n",
       "      <td>11.8</td>\n",
       "    </tr>\n",
       "    <tr>\n",
       "      <th>1065</th>\n",
       "      <td>3.2</td>\n",
       "      <td>6</td>\n",
       "      <td>11.3</td>\n",
       "    </tr>\n",
       "    <tr>\n",
       "      <th>1066</th>\n",
       "      <td>3.2</td>\n",
       "      <td>6</td>\n",
       "      <td>12.8</td>\n",
       "    </tr>\n",
       "  </tbody>\n",
       "</table>\n",
       "<p>1067 rows × 3 columns</p>\n",
       "</div>"
      ],
      "text/plain": [
       "      ENGINESIZE  CYLINDERS  FUELCONSUMPTION_COMB\n",
       "0            2.0          4                   8.5\n",
       "1            2.4          4                   9.6\n",
       "2            1.5          4                   5.9\n",
       "3            3.5          6                  11.1\n",
       "4            3.5          6                  10.6\n",
       "...          ...        ...                   ...\n",
       "1062         3.0          6                  11.8\n",
       "1063         3.2          6                  11.5\n",
       "1064         3.0          6                  11.8\n",
       "1065         3.2          6                  11.3\n",
       "1066         3.2          6                  12.8\n",
       "\n",
       "[1067 rows x 3 columns]"
      ]
     },
     "execution_count": 21,
     "metadata": {},
     "output_type": "execute_result"
    }
   ],
   "source": [
    "X"
   ]
  },
  {
   "cell_type": "code",
   "execution_count": 22,
   "metadata": {},
   "outputs": [],
   "source": [
    "X = data.drop(['CO2EMISSIONS','MAKE','VEHICLECLASS','MODEL', 'TRANSMISSION', 'FUELTYPE', 'FUELCONSUMPTION_CITY','FUELCONSUMPTION_HWY','FUELCONSUMPTION_COMB_MPG', 'MODELYEAR'], axis=1)\n",
    "y = data['CO2EMISSIONS'].values.reshape(-1,1)"
   ]
  },
  {
   "cell_type": "code",
   "execution_count": 23,
   "metadata": {},
   "outputs": [],
   "source": [
    "from sklearn.model_selection import train_test_split\n",
    "X_train, X_test, y_train, y_test = train_test_split(X, y, test_size = 1/3, random_state = 0)"
   ]
  },
  {
   "cell_type": "code",
   "execution_count": 24,
   "metadata": {
    "scrolled": true
   },
   "outputs": [
    {
     "data": {
      "text/plain": [
       "LinearRegression()"
      ]
     },
     "execution_count": 24,
     "metadata": {},
     "output_type": "execute_result"
    }
   ],
   "source": [
    "from sklearn.linear_model import LinearRegression\n",
    "reg_single = LinearRegression()\n",
    "reg_single.fit(X_train['ENGINESIZE'].values.reshape(-1,1), y_train)"
   ]
  },
  {
   "cell_type": "markdown",
   "metadata": {},
   "source": [
    "### Single Linear regression error"
   ]
  },
  {
   "cell_type": "code",
   "execution_count": 25,
   "metadata": {
    "scrolled": true
   },
   "outputs": [
    {
     "name": "stdout",
     "output_type": "stream",
     "text": [
      "Residual sum of squares (RSS): 373781.28\n",
      "Mean absolute error (MAE): 24.86\n",
      "Mean square error (MSE): 1049.95\n",
      "Root mean square error (RMSE): 32.40\n"
     ]
    }
   ],
   "source": [
    "y_pred = reg_single.predict(X_test['ENGINESIZE'].values.reshape(-1,1))\n",
    "print(\"Residual sum of squares (RSS): %.2f\" % sum((y_pred - y_test) ** 2))\n",
    "print(\"Mean absolute error (MAE): %.2f\" % np.mean(abs(y_pred - y_test)))\n",
    "print(\"Mean square error (MSE): %.2f\" % np.mean((y_pred - y_test) ** 2))\n",
    "print(\"Root mean square error (RMSE): %.2f\" % np.sqrt(np.mean((y_pred - y_test) ** 2)))"
   ]
  },
  {
   "cell_type": "code",
   "execution_count": null,
   "metadata": {},
   "outputs": [],
   "source": []
  },
  {
   "cell_type": "markdown",
   "metadata": {},
   "source": [
    "<font size = \"5\" color = \"darkblue\">Train a multiple linear regression with these three predictors. What are the coefficients associated with each predictor?"
   ]
  },
  {
   "cell_type": "code",
   "execution_count": 26,
   "metadata": {},
   "outputs": [
    {
     "data": {
      "text/html": [
       "<div>\n",
       "<style scoped>\n",
       "    .dataframe tbody tr th:only-of-type {\n",
       "        vertical-align: middle;\n",
       "    }\n",
       "\n",
       "    .dataframe tbody tr th {\n",
       "        vertical-align: top;\n",
       "    }\n",
       "\n",
       "    .dataframe thead th {\n",
       "        text-align: right;\n",
       "    }\n",
       "</style>\n",
       "<table border=\"1\" class=\"dataframe\">\n",
       "  <thead>\n",
       "    <tr style=\"text-align: right;\">\n",
       "      <th></th>\n",
       "      <th>MODELYEAR</th>\n",
       "      <th>MAKE</th>\n",
       "      <th>MODEL</th>\n",
       "      <th>VEHICLECLASS</th>\n",
       "      <th>ENGINESIZE</th>\n",
       "      <th>CYLINDERS</th>\n",
       "      <th>TRANSMISSION</th>\n",
       "      <th>FUELTYPE</th>\n",
       "      <th>FUELCONSUMPTION_CITY</th>\n",
       "      <th>FUELCONSUMPTION_HWY</th>\n",
       "      <th>FUELCONSUMPTION_COMB</th>\n",
       "      <th>FUELCONSUMPTION_COMB_MPG</th>\n",
       "      <th>CO2EMISSIONS</th>\n",
       "    </tr>\n",
       "  </thead>\n",
       "  <tbody>\n",
       "    <tr>\n",
       "      <th>0</th>\n",
       "      <td>2014</td>\n",
       "      <td>ACURA</td>\n",
       "      <td>ILX</td>\n",
       "      <td>COMPACT</td>\n",
       "      <td>2.0</td>\n",
       "      <td>4</td>\n",
       "      <td>AS5</td>\n",
       "      <td>Z</td>\n",
       "      <td>9.9</td>\n",
       "      <td>6.7</td>\n",
       "      <td>8.5</td>\n",
       "      <td>33</td>\n",
       "      <td>196</td>\n",
       "    </tr>\n",
       "    <tr>\n",
       "      <th>1</th>\n",
       "      <td>2014</td>\n",
       "      <td>ACURA</td>\n",
       "      <td>ILX</td>\n",
       "      <td>COMPACT</td>\n",
       "      <td>2.4</td>\n",
       "      <td>4</td>\n",
       "      <td>M6</td>\n",
       "      <td>Z</td>\n",
       "      <td>11.2</td>\n",
       "      <td>7.7</td>\n",
       "      <td>9.6</td>\n",
       "      <td>29</td>\n",
       "      <td>221</td>\n",
       "    </tr>\n",
       "    <tr>\n",
       "      <th>2</th>\n",
       "      <td>2014</td>\n",
       "      <td>ACURA</td>\n",
       "      <td>ILX HYBRID</td>\n",
       "      <td>COMPACT</td>\n",
       "      <td>1.5</td>\n",
       "      <td>4</td>\n",
       "      <td>AV7</td>\n",
       "      <td>Z</td>\n",
       "      <td>6.0</td>\n",
       "      <td>5.8</td>\n",
       "      <td>5.9</td>\n",
       "      <td>48</td>\n",
       "      <td>136</td>\n",
       "    </tr>\n",
       "    <tr>\n",
       "      <th>3</th>\n",
       "      <td>2014</td>\n",
       "      <td>ACURA</td>\n",
       "      <td>MDX 4WD</td>\n",
       "      <td>SUV - SMALL</td>\n",
       "      <td>3.5</td>\n",
       "      <td>6</td>\n",
       "      <td>AS6</td>\n",
       "      <td>Z</td>\n",
       "      <td>12.7</td>\n",
       "      <td>9.1</td>\n",
       "      <td>11.1</td>\n",
       "      <td>25</td>\n",
       "      <td>255</td>\n",
       "    </tr>\n",
       "    <tr>\n",
       "      <th>4</th>\n",
       "      <td>2014</td>\n",
       "      <td>ACURA</td>\n",
       "      <td>RDX AWD</td>\n",
       "      <td>SUV - SMALL</td>\n",
       "      <td>3.5</td>\n",
       "      <td>6</td>\n",
       "      <td>AS6</td>\n",
       "      <td>Z</td>\n",
       "      <td>12.1</td>\n",
       "      <td>8.7</td>\n",
       "      <td>10.6</td>\n",
       "      <td>27</td>\n",
       "      <td>244</td>\n",
       "    </tr>\n",
       "  </tbody>\n",
       "</table>\n",
       "</div>"
      ],
      "text/plain": [
       "   MODELYEAR   MAKE       MODEL VEHICLECLASS  ENGINESIZE  CYLINDERS  \\\n",
       "0       2014  ACURA         ILX      COMPACT         2.0          4   \n",
       "1       2014  ACURA         ILX      COMPACT         2.4          4   \n",
       "2       2014  ACURA  ILX HYBRID      COMPACT         1.5          4   \n",
       "3       2014  ACURA     MDX 4WD  SUV - SMALL         3.5          6   \n",
       "4       2014  ACURA     RDX AWD  SUV - SMALL         3.5          6   \n",
       "\n",
       "  TRANSMISSION FUELTYPE  FUELCONSUMPTION_CITY  FUELCONSUMPTION_HWY  \\\n",
       "0          AS5        Z                   9.9                  6.7   \n",
       "1           M6        Z                  11.2                  7.7   \n",
       "2          AV7        Z                   6.0                  5.8   \n",
       "3          AS6        Z                  12.7                  9.1   \n",
       "4          AS6        Z                  12.1                  8.7   \n",
       "\n",
       "   FUELCONSUMPTION_COMB  FUELCONSUMPTION_COMB_MPG  CO2EMISSIONS  \n",
       "0                   8.5                        33           196  \n",
       "1                   9.6                        29           221  \n",
       "2                   5.9                        48           136  \n",
       "3                  11.1                        25           255  \n",
       "4                  10.6                        27           244  "
      ]
     },
     "execution_count": 26,
     "metadata": {},
     "output_type": "execute_result"
    }
   ],
   "source": [
    "data.head()"
   ]
  },
  {
   "cell_type": "code",
   "execution_count": 27,
   "metadata": {},
   "outputs": [
    {
     "name": "stdout",
     "output_type": "stream",
     "text": [
      "The linear model is: Y = 64.341 + 10.812*CYLINDERS + 7.9121*ENGINESIZE + 9.6282*FUELCONSUMPTION_COMB\n"
     ]
    }
   ],
   "source": [
    "reg_multiple = LinearRegression()\n",
    "reg_multiple.fit(X_train, y_train)\n",
    "print(\"The linear model is: Y = {:.5} + {:.5}*CYLINDERS + {:.5}*ENGINESIZE + {:.5}*FUELCONSUMPTION_COMB\".format(reg_multiple.intercept_[0], reg_multiple.coef_[0][0], reg_multiple.coef_[0][1], reg_multiple.coef_[0][2]))"
   ]
  },
  {
   "cell_type": "code",
   "execution_count": 28,
   "metadata": {},
   "outputs": [
    {
     "name": "stdout",
     "output_type": "stream",
     "text": [
      "64.3411843265086 10.811822848685246 7.912116181915291 9.628194658379993\n"
     ]
    }
   ],
   "source": [
    "print(reg_multiple.intercept_[0], reg_multiple.coef_[0][0], reg_multiple.coef_[0][1], reg_multiple.coef_[0][2])"
   ]
  },
  {
   "cell_type": "code",
   "execution_count": null,
   "metadata": {},
   "outputs": [],
   "source": []
  },
  {
   "cell_type": "markdown",
   "metadata": {},
   "source": [
    "<font size = \"5\" color = \"darkblue\"> What is the accuracy of this model? What do you think, when compared with the accuracy of the linear regression with 'FUELCONSUMPTION_COMB' as single predictor (computed in last question of practice #3)?"
   ]
  },
  {
   "cell_type": "code",
   "execution_count": 29,
   "metadata": {},
   "outputs": [
    {
     "name": "stdout",
     "output_type": "stream",
     "text": [
      "Residual sum of squares (RSS): 219936.91\n",
      "Mean absolute error (MAE): 18.05\n",
      "Mean square error (MSE): 617.80\n",
      "Root mean square error (RMSE): 24.86\n"
     ]
    }
   ],
   "source": [
    "y_pred = reg_multiple.predict(X_test)\n",
    "print(\"Residual sum of squares (RSS): %.2f\" % sum((y_pred - y_test) ** 2))\n",
    "print(\"Mean absolute error (MAE): %.2f\" % np.mean(abs(y_pred - y_test)))\n",
    "print(\"Mean square error (MSE): %.2f\" % np.mean((y_pred - y_test) ** 2))\n",
    "print(\"Root mean square error (RMSE): %.2f\" % np.sqrt(np.mean((y_pred - y_test) ** 2)))"
   ]
  },
  {
   "cell_type": "code",
   "execution_count": 30,
   "metadata": {},
   "outputs": [
    {
     "data": {
      "image/png": "[encoded data removed]",
      "text/plain": [
       "<Figure size 432x288 with 1 Axes>"
      ]
     },
     "metadata": {
      "needs_background": "light"
     },
     "output_type": "display_data"
    }
   ],
   "source": [
    "residuals = y_test - y_pred\n",
    "plt.hist(x= residuals)\n",
    "plt.xlabel('Error on Co2 Emission')\n",
    "plt.ylabel('Count')\n",
    "plt.title(\"Distribution of the residuals\")\n",
    "plt.show()"
   ]
  },
  {
   "cell_type": "markdown",
   "metadata": {},
   "source": [
    "The error in the multiple regression model is relatively lower than that from the single linear model because we know that the correlation between Co2 emission and cylinder are less dispressed and also the correlation between CO2 and Combined Combustion is strictly linear.  The error is almost decreased by 2 % from 224 to 219 approx.   \n",
    "\n",
    "\n",
    "Only the data between Engine size and the Co2 emission are more dispressed and hence leads to error. But in multiple regression the cylinder data and combustion combined data are also taken into consideration, which results in lowering down the error."
   ]
  },
  {
   "cell_type": "markdown",
   "metadata": {},
   "source": [
    "## Polynomial regression\n"
   ]
  },
  {
   "cell_type": "code",
   "execution_count": 31,
   "metadata": {
    "scrolled": true
   },
   "outputs": [
    {
     "data": {
      "text/html": [
       "<div>\n",
       "<style scoped>\n",
       "    .dataframe tbody tr th:only-of-type {\n",
       "        vertical-align: middle;\n",
       "    }\n",
       "\n",
       "    .dataframe tbody tr th {\n",
       "        vertical-align: top;\n",
       "    }\n",
       "\n",
       "    .dataframe thead th {\n",
       "        text-align: right;\n",
       "    }\n",
       "</style>\n",
       "<table border=\"1\" class=\"dataframe\">\n",
       "  <thead>\n",
       "    <tr style=\"text-align: right;\">\n",
       "      <th></th>\n",
       "      <th>ENGINESIZE</th>\n",
       "      <th>CYLINDERS</th>\n",
       "      <th>FUELCONSUMPTION_COMB</th>\n",
       "    </tr>\n",
       "  </thead>\n",
       "  <tbody>\n",
       "    <tr>\n",
       "      <th>766</th>\n",
       "      <td>5.5</td>\n",
       "      <td>8</td>\n",
       "      <td>15.5</td>\n",
       "    </tr>\n",
       "    <tr>\n",
       "      <th>204</th>\n",
       "      <td>2.4</td>\n",
       "      <td>4</td>\n",
       "      <td>9.1</td>\n",
       "    </tr>\n",
       "    <tr>\n",
       "      <th>629</th>\n",
       "      <td>2.4</td>\n",
       "      <td>4</td>\n",
       "      <td>10.0</td>\n",
       "    </tr>\n",
       "    <tr>\n",
       "      <th>897</th>\n",
       "      <td>2.7</td>\n",
       "      <td>6</td>\n",
       "      <td>9.2</td>\n",
       "    </tr>\n",
       "    <tr>\n",
       "      <th>711</th>\n",
       "      <td>2.5</td>\n",
       "      <td>4</td>\n",
       "      <td>7.3</td>\n",
       "    </tr>\n",
       "    <tr>\n",
       "      <th>...</th>\n",
       "      <td>...</td>\n",
       "      <td>...</td>\n",
       "      <td>...</td>\n",
       "    </tr>\n",
       "    <tr>\n",
       "      <th>467</th>\n",
       "      <td>3.6</td>\n",
       "      <td>6</td>\n",
       "      <td>12.6</td>\n",
       "    </tr>\n",
       "    <tr>\n",
       "      <th>427</th>\n",
       "      <td>3.5</td>\n",
       "      <td>6</td>\n",
       "      <td>15.7</td>\n",
       "    </tr>\n",
       "    <tr>\n",
       "      <th>506</th>\n",
       "      <td>5.0</td>\n",
       "      <td>8</td>\n",
       "      <td>13.2</td>\n",
       "    </tr>\n",
       "    <tr>\n",
       "      <th>258</th>\n",
       "      <td>1.4</td>\n",
       "      <td>4</td>\n",
       "      <td>7.9</td>\n",
       "    </tr>\n",
       "    <tr>\n",
       "      <th>615</th>\n",
       "      <td>1.6</td>\n",
       "      <td>4</td>\n",
       "      <td>7.6</td>\n",
       "    </tr>\n",
       "  </tbody>\n",
       "</table>\n",
       "<p>356 rows × 3 columns</p>\n",
       "</div>"
      ],
      "text/plain": [
       "     ENGINESIZE  CYLINDERS  FUELCONSUMPTION_COMB\n",
       "766         5.5          8                  15.5\n",
       "204         2.4          4                   9.1\n",
       "629         2.4          4                  10.0\n",
       "897         2.7          6                   9.2\n",
       "711         2.5          4                   7.3\n",
       "..          ...        ...                   ...\n",
       "467         3.6          6                  12.6\n",
       "427         3.5          6                  15.7\n",
       "506         5.0          8                  13.2\n",
       "258         1.4          4                   7.9\n",
       "615         1.6          4                   7.6\n",
       "\n",
       "[356 rows x 3 columns]"
      ]
     },
     "execution_count": 31,
     "metadata": {},
     "output_type": "execute_result"
    }
   ],
   "source": [
    "X_test"
   ]
  },
  {
   "cell_type": "code",
   "execution_count": 32,
   "metadata": {},
   "outputs": [],
   "source": [
    "from sklearn.preprocessing import PolynomialFeatures\n",
    "poly = PolynomialFeatures(degree=5, include_bias=False)\n",
    "X_train_poly = poly.fit_transform(X_train['ENGINESIZE'].values.reshape(-1,1))\n",
    "\n",
    "X_train_poly = pd.DataFrame(X_train_poly)\n",
    "X_train_poly.columns = poly.get_feature_names()"
   ]
  },
  {
   "cell_type": "code",
   "execution_count": 33,
   "metadata": {},
   "outputs": [
    {
     "data": {
      "text/html": [
       "<div>\n",
       "<style scoped>\n",
       "    .dataframe tbody tr th:only-of-type {\n",
       "        vertical-align: middle;\n",
       "    }\n",
       "\n",
       "    .dataframe tbody tr th {\n",
       "        vertical-align: top;\n",
       "    }\n",
       "\n",
       "    .dataframe thead th {\n",
       "        text-align: right;\n",
       "    }\n",
       "</style>\n",
       "<table border=\"1\" class=\"dataframe\">\n",
       "  <thead>\n",
       "    <tr style=\"text-align: right;\">\n",
       "      <th></th>\n",
       "      <th>x0</th>\n",
       "      <th>x0^2</th>\n",
       "      <th>x0^3</th>\n",
       "      <th>x0^4</th>\n",
       "      <th>x0^5</th>\n",
       "    </tr>\n",
       "  </thead>\n",
       "  <tbody>\n",
       "    <tr>\n",
       "      <th>0</th>\n",
       "      <td>3.0</td>\n",
       "      <td>9.00</td>\n",
       "      <td>27.000</td>\n",
       "      <td>81.0000</td>\n",
       "      <td>243.00000</td>\n",
       "    </tr>\n",
       "    <tr>\n",
       "      <th>1</th>\n",
       "      <td>5.7</td>\n",
       "      <td>32.49</td>\n",
       "      <td>185.193</td>\n",
       "      <td>1055.6001</td>\n",
       "      <td>6016.92057</td>\n",
       "    </tr>\n",
       "    <tr>\n",
       "      <th>2</th>\n",
       "      <td>3.8</td>\n",
       "      <td>14.44</td>\n",
       "      <td>54.872</td>\n",
       "      <td>208.5136</td>\n",
       "      <td>792.35168</td>\n",
       "    </tr>\n",
       "    <tr>\n",
       "      <th>3</th>\n",
       "      <td>3.5</td>\n",
       "      <td>12.25</td>\n",
       "      <td>42.875</td>\n",
       "      <td>150.0625</td>\n",
       "      <td>525.21875</td>\n",
       "    </tr>\n",
       "    <tr>\n",
       "      <th>4</th>\n",
       "      <td>2.0</td>\n",
       "      <td>4.00</td>\n",
       "      <td>8.000</td>\n",
       "      <td>16.0000</td>\n",
       "      <td>32.00000</td>\n",
       "    </tr>\n",
       "  </tbody>\n",
       "</table>\n",
       "</div>"
      ],
      "text/plain": [
       "    x0   x0^2     x0^3       x0^4        x0^5\n",
       "0  3.0   9.00   27.000    81.0000   243.00000\n",
       "1  5.7  32.49  185.193  1055.6001  6016.92057\n",
       "2  3.8  14.44   54.872   208.5136   792.35168\n",
       "3  3.5  12.25   42.875   150.0625   525.21875\n",
       "4  2.0   4.00    8.000    16.0000    32.00000"
      ]
     },
     "execution_count": 33,
     "metadata": {},
     "output_type": "execute_result"
    }
   ],
   "source": [
    "X_train_poly[:5]"
   ]
  },
  {
   "cell_type": "code",
   "execution_count": 34,
   "metadata": {},
   "outputs": [
    {
     "data": {
      "text/plain": [
       "LinearRegression()"
      ]
     },
     "execution_count": 34,
     "metadata": {},
     "output_type": "execute_result"
    }
   ],
   "source": [
    "reg_poly = LinearRegression()\n",
    "reg_poly.fit(X_train_poly, y_train)"
   ]
  },
  {
   "cell_type": "code",
   "execution_count": 35,
   "metadata": {},
   "outputs": [
    {
     "data": {
      "image/png": "[encoded data removed]",
      "text/plain": [
       "<Figure size 1152x576 with 1 Axes>"
      ]
     },
     "metadata": {
      "needs_background": "light"
     },
     "output_type": "display_data"
    }
   ],
   "source": [
    "X_plot = np.arange(min(data['ENGINESIZE']),max(data['ENGINESIZE']),1)\n",
    "X_plot = X_plot.reshape(-1, 1)\n",
    "X_poly_plot = poly.transform(X_plot)\n",
    "y_poly_plot = reg_poly.predict(X_poly_plot)\n",
    "y_single_plot = reg_single.predict(X_plot)\n",
    "\n",
    "plt.figure(figsize=(16, 8))\n",
    "plt.scatter(X_train['ENGINESIZE'], y_train, c='lightgray')\n",
    "plt.scatter(X_test['ENGINESIZE'], y_test, c='black')\n",
    "plt.plot(X_plot, y_single_plot, c='lightblue', linewidth=2, label='single linear')\n",
    "plt.plot(X_plot, y_poly_plot, c='blue', linewidth=2, label='polynomial')\n",
    "plt.xlabel(\"Size of the engine\")\n",
    "plt.ylabel(\"Co2 emission\")\n",
    "plt.legend()\n",
    "plt.show()"
   ]
  },
  {
   "cell_type": "markdown",
   "metadata": {},
   "source": [
    "### Accuracy"
   ]
  },
  {
   "cell_type": "code",
   "execution_count": 36,
   "metadata": {},
   "outputs": [
    {
     "name": "stdout",
     "output_type": "stream",
     "text": [
      "Residual sum of squares (RSS): 1194646.03\n",
      "Mean absolute error (MAE): 28.14\n",
      "Mean square error (MSE): 3355.75\n",
      "Root mean square error (RMSE): 57.93\n"
     ]
    }
   ],
   "source": [
    "y_pred = reg_poly.predict(poly.transform(X_test['ENGINESIZE'].values.reshape(-1, 1)))\n",
    "print(\"Residual sum of squares (RSS): %.2f\" % sum((y_pred - y_test) ** 2))\n",
    "print(\"Mean absolute error (MAE): %.2f\" % np.mean(abs(y_pred - y_test)))\n",
    "print(\"Mean square error (MSE): %.2f\" % np.mean((y_pred - y_test) ** 2))\n",
    "print(\"Root mean square error (RMSE): %.2f\" % np.sqrt(np.mean((y_pred - y_test) ** 2)))"
   ]
  },
  {
   "cell_type": "markdown",
   "metadata": {},
   "source": [
    "### With interaction terms"
   ]
  },
  {
   "cell_type": "code",
   "execution_count": 37,
   "metadata": {},
   "outputs": [],
   "source": [
    "from sklearn.preprocessing import PolynomialFeatures\n",
    "interaction = PolynomialFeatures(degree=2, include_bias=False, interaction_only=False)\n",
    "X_train_interaction = interaction.fit_transform(X_train)\n",
    "\n",
    "X_train_interaction = pd.DataFrame(X_train_interaction)\n",
    "X_train_interaction.columns = interaction.get_feature_names()"
   ]
  },
  {
   "cell_type": "code",
   "execution_count": 38,
   "metadata": {},
   "outputs": [
    {
     "data": {
      "text/html": [
       "<div>\n",
       "<style scoped>\n",
       "    .dataframe tbody tr th:only-of-type {\n",
       "        vertical-align: middle;\n",
       "    }\n",
       "\n",
       "    .dataframe tbody tr th {\n",
       "        vertical-align: top;\n",
       "    }\n",
       "\n",
       "    .dataframe thead th {\n",
       "        text-align: right;\n",
       "    }\n",
       "</style>\n",
       "<table border=\"1\" class=\"dataframe\">\n",
       "  <thead>\n",
       "    <tr style=\"text-align: right;\">\n",
       "      <th></th>\n",
       "      <th>x0</th>\n",
       "      <th>x1</th>\n",
       "      <th>x2</th>\n",
       "      <th>x0^2</th>\n",
       "      <th>x0 x1</th>\n",
       "      <th>x0 x2</th>\n",
       "      <th>x1^2</th>\n",
       "      <th>x1 x2</th>\n",
       "      <th>x2^2</th>\n",
       "    </tr>\n",
       "  </thead>\n",
       "  <tbody>\n",
       "    <tr>\n",
       "      <th>0</th>\n",
       "      <td>3.0</td>\n",
       "      <td>6.0</td>\n",
       "      <td>17.3</td>\n",
       "      <td>9.00</td>\n",
       "      <td>18.0</td>\n",
       "      <td>51.90</td>\n",
       "      <td>36.0</td>\n",
       "      <td>103.8</td>\n",
       "      <td>299.29</td>\n",
       "    </tr>\n",
       "    <tr>\n",
       "      <th>1</th>\n",
       "      <td>5.7</td>\n",
       "      <td>8.0</td>\n",
       "      <td>12.8</td>\n",
       "      <td>32.49</td>\n",
       "      <td>45.6</td>\n",
       "      <td>72.96</td>\n",
       "      <td>64.0</td>\n",
       "      <td>102.4</td>\n",
       "      <td>163.84</td>\n",
       "    </tr>\n",
       "    <tr>\n",
       "      <th>2</th>\n",
       "      <td>3.8</td>\n",
       "      <td>6.0</td>\n",
       "      <td>11.9</td>\n",
       "      <td>14.44</td>\n",
       "      <td>22.8</td>\n",
       "      <td>45.22</td>\n",
       "      <td>36.0</td>\n",
       "      <td>71.4</td>\n",
       "      <td>141.61</td>\n",
       "    </tr>\n",
       "    <tr>\n",
       "      <th>3</th>\n",
       "      <td>3.5</td>\n",
       "      <td>6.0</td>\n",
       "      <td>11.3</td>\n",
       "      <td>12.25</td>\n",
       "      <td>21.0</td>\n",
       "      <td>39.55</td>\n",
       "      <td>36.0</td>\n",
       "      <td>67.8</td>\n",
       "      <td>127.69</td>\n",
       "    </tr>\n",
       "    <tr>\n",
       "      <th>4</th>\n",
       "      <td>2.0</td>\n",
       "      <td>4.0</td>\n",
       "      <td>9.8</td>\n",
       "      <td>4.00</td>\n",
       "      <td>8.0</td>\n",
       "      <td>19.60</td>\n",
       "      <td>16.0</td>\n",
       "      <td>39.2</td>\n",
       "      <td>96.04</td>\n",
       "    </tr>\n",
       "  </tbody>\n",
       "</table>\n",
       "</div>"
      ],
      "text/plain": [
       "    x0   x1    x2   x0^2  x0 x1  x0 x2  x1^2  x1 x2    x2^2\n",
       "0  3.0  6.0  17.3   9.00   18.0  51.90  36.0  103.8  299.29\n",
       "1  5.7  8.0  12.8  32.49   45.6  72.96  64.0  102.4  163.84\n",
       "2  3.8  6.0  11.9  14.44   22.8  45.22  36.0   71.4  141.61\n",
       "3  3.5  6.0  11.3  12.25   21.0  39.55  36.0   67.8  127.69\n",
       "4  2.0  4.0   9.8   4.00    8.0  19.60  16.0   39.2   96.04"
      ]
     },
     "execution_count": 38,
     "metadata": {},
     "output_type": "execute_result"
    }
   ],
   "source": [
    "X_train_interaction.head()"
   ]
  },
  {
   "cell_type": "code",
   "execution_count": 39,
   "metadata": {},
   "outputs": [
    {
     "data": {
      "text/plain": [
       "LinearRegression()"
      ]
     },
     "execution_count": 39,
     "metadata": {},
     "output_type": "execute_result"
    }
   ],
   "source": [
    "reg_interaction = LinearRegression()\n",
    "reg_interaction.fit(X_train_interaction, y_train)"
   ]
  },
  {
   "cell_type": "code",
   "execution_count": 40,
   "metadata": {},
   "outputs": [
    {
     "name": "stdout",
     "output_type": "stream",
     "text": [
      "Residual sum of squares (RSS): 159265.48\n",
      "Mean absolute error (MAE): 11.49\n",
      "Mean square error (MSE): 447.37\n",
      "Root mean square error (RMSE): 21.15\n"
     ]
    }
   ],
   "source": [
    "# y_pred = clf.predict(X_test)\n",
    "y_pred = reg_interaction.predict(interaction.transform(X_test))\n",
    "print(\"Residual sum of squares (RSS): %.2f\" % sum((y_pred - y_test) ** 2))\n",
    "print(\"Mean absolute error (MAE): %.2f\" % np.mean(abs(y_pred - y_test)))\n",
    "print(\"Mean square error (MSE): %.2f\" % np.mean((y_pred - y_test) ** 2))\n",
    "print(\"Root mean square error (RMSE): %.2f\" % np.sqrt(np.mean((y_pred - y_test) ** 2)))"
   ]
  },
  {
   "cell_type": "code",
   "execution_count": null,
   "metadata": {},
   "outputs": [],
   "source": []
  },
  {
   "cell_type": "markdown",
   "metadata": {},
   "source": [
    "<font size = \"4\" color = \"Darkblue\"> Plot 'CO2EMISSIONS' with respect to 'FUELCONSUMPTION_COMB' for each possible value of 'FUELTYPE' (i.e. plot the scatter dots with one distinct color for each value of 'FUELTYPE'). Do you think that 'FUELTYPE' and 'FUELCONSUMPTION_COMB' could be sufficient predictors for 'CO2EMISSIONS' estimation with a multiple linear regression model? Compute the accuracy."
   ]
  },
  {
   "cell_type": "code",
   "execution_count": 41,
   "metadata": {},
   "outputs": [
    {
     "data": {
      "image/png": "[encoded data removed]",
      "text/plain": [
       "<Figure size 800x480 with 1 Axes>"
      ]
     },
     "metadata": {
      "needs_background": "light"
     },
     "output_type": "display_data"
    }
   ],
   "source": [
    "plt.figure(figsize=(10,6), dpi= 80)\n",
    "plt.scatter(data['FUELCONSUMPTION_CITY'],data['FUELCONSUMPTION_HWY'],data['FUELCONSUMPTION_COMB'], data['CO2EMISSIONS'])\n",
    "plt.xlabel(\"Fuel Consumption\")\n",
    "plt.ylabel(\"CO2EMISSIONS\")\n",
    "plt.show()"
   ]
  },
  {
   "cell_type": "markdown",
   "metadata": {},
   "source": [
    "The **\"FUELCONSUMPTION_CITY\"** and **\"FUELCONSUMPTION_HWY\"** is not weighted sum for the **\"FUELCONSUMPTION_COMB\"**. \n",
    "\n",
    "As we can see, Correlation between FUELCONSUMPTION_CITY and Co2 Emission is **0.99** where the correlation between FUELCONSUMPTION_HWY and CO2 is **0.98** \n"
   ]
  },
  {
   "cell_type": "code",
   "execution_count": 42,
   "metadata": {},
   "outputs": [
    {
     "data": {
      "text/plain": [
       "0.9955423996306135"
      ]
     },
     "execution_count": 42,
     "metadata": {},
     "output_type": "execute_result"
    }
   ],
   "source": [
    "x = data['FUELCONSUMPTION_CITY'].corr(data['FUELCONSUMPTION_COMB'])\n",
    "x"
   ]
  },
  {
   "cell_type": "code",
   "execution_count": 43,
   "metadata": {},
   "outputs": [
    {
     "data": {
      "text/plain": [
       "0.9858038475936333"
      ]
     },
     "execution_count": 43,
     "metadata": {},
     "output_type": "execute_result"
    }
   ],
   "source": [
    "x1 = data['FUELCONSUMPTION_HWY'].corr(data['FUELCONSUMPTION_COMB'])\n",
    "x1"
   ]
  },
  {
   "cell_type": "code",
   "execution_count": null,
   "metadata": {},
   "outputs": [],
   "source": []
  },
  {
   "cell_type": "markdown",
   "metadata": {},
   "source": [
    "<font size = \"5\" color = \"darkblue\"> Add 'FUELCONSUMPTION_CITY' and 'FUELCONSUMPTION_HWY' as additional predictors to your model of question #2. What is the gain of accuracy, and how do you interpret that?"
   ]
  },
  {
   "cell_type": "code",
   "execution_count": 71,
   "metadata": {},
   "outputs": [],
   "source": [
    "X = data.filter(['CYLINDERS', 'ENGINESIZE', 'FUELCONSUMPTION_COMB', 'FUELCONSUMPTION_CITY', 'FUELCONSUMPTION_HWY'])\n",
    "y = data.filter(['CO2EMISSIONS']).values.reshape(-1,1)\n",
    "\n",
    "X_train, X_test, y_train, y_test = train_test_split(X, y, test_size = 1/3, random_state = 0)\n",
    "\n"
   ]
  },
  {
   "cell_type": "code",
   "execution_count": 78,
   "metadata": {
    "scrolled": true
   },
   "outputs": [
    {
     "data": {
      "text/html": [
       "<div>\n",
       "<style scoped>\n",
       "    .dataframe tbody tr th:only-of-type {\n",
       "        vertical-align: middle;\n",
       "    }\n",
       "\n",
       "    .dataframe tbody tr th {\n",
       "        vertical-align: top;\n",
       "    }\n",
       "\n",
       "    .dataframe thead th {\n",
       "        text-align: right;\n",
       "    }\n",
       "</style>\n",
       "<table border=\"1\" class=\"dataframe\">\n",
       "  <thead>\n",
       "    <tr style=\"text-align: right;\">\n",
       "      <th></th>\n",
       "      <th>CYLINDERS</th>\n",
       "      <th>ENGINESIZE</th>\n",
       "      <th>FUELCONSUMPTION_COMB</th>\n",
       "      <th>FUELCONSUMPTION_CITY</th>\n",
       "      <th>FUELCONSUMPTION_HWY</th>\n",
       "    </tr>\n",
       "  </thead>\n",
       "  <tbody>\n",
       "    <tr>\n",
       "      <th>0</th>\n",
       "      <td>4</td>\n",
       "      <td>2.0</td>\n",
       "      <td>8.5</td>\n",
       "      <td>9.9</td>\n",
       "      <td>6.7</td>\n",
       "    </tr>\n",
       "    <tr>\n",
       "      <th>1</th>\n",
       "      <td>4</td>\n",
       "      <td>2.4</td>\n",
       "      <td>9.6</td>\n",
       "      <td>11.2</td>\n",
       "      <td>7.7</td>\n",
       "    </tr>\n",
       "    <tr>\n",
       "      <th>2</th>\n",
       "      <td>4</td>\n",
       "      <td>1.5</td>\n",
       "      <td>5.9</td>\n",
       "      <td>6.0</td>\n",
       "      <td>5.8</td>\n",
       "    </tr>\n",
       "    <tr>\n",
       "      <th>3</th>\n",
       "      <td>6</td>\n",
       "      <td>3.5</td>\n",
       "      <td>11.1</td>\n",
       "      <td>12.7</td>\n",
       "      <td>9.1</td>\n",
       "    </tr>\n",
       "    <tr>\n",
       "      <th>4</th>\n",
       "      <td>6</td>\n",
       "      <td>3.5</td>\n",
       "      <td>10.6</td>\n",
       "      <td>12.1</td>\n",
       "      <td>8.7</td>\n",
       "    </tr>\n",
       "    <tr>\n",
       "      <th>...</th>\n",
       "      <td>...</td>\n",
       "      <td>...</td>\n",
       "      <td>...</td>\n",
       "      <td>...</td>\n",
       "      <td>...</td>\n",
       "    </tr>\n",
       "    <tr>\n",
       "      <th>1062</th>\n",
       "      <td>6</td>\n",
       "      <td>3.0</td>\n",
       "      <td>11.8</td>\n",
       "      <td>13.4</td>\n",
       "      <td>9.8</td>\n",
       "    </tr>\n",
       "    <tr>\n",
       "      <th>1063</th>\n",
       "      <td>6</td>\n",
       "      <td>3.2</td>\n",
       "      <td>11.5</td>\n",
       "      <td>13.2</td>\n",
       "      <td>9.5</td>\n",
       "    </tr>\n",
       "    <tr>\n",
       "      <th>1064</th>\n",
       "      <td>6</td>\n",
       "      <td>3.0</td>\n",
       "      <td>11.8</td>\n",
       "      <td>13.4</td>\n",
       "      <td>9.8</td>\n",
       "    </tr>\n",
       "    <tr>\n",
       "      <th>1065</th>\n",
       "      <td>6</td>\n",
       "      <td>3.2</td>\n",
       "      <td>11.3</td>\n",
       "      <td>12.9</td>\n",
       "      <td>9.3</td>\n",
       "    </tr>\n",
       "    <tr>\n",
       "      <th>1066</th>\n",
       "      <td>6</td>\n",
       "      <td>3.2</td>\n",
       "      <td>12.8</td>\n",
       "      <td>14.9</td>\n",
       "      <td>10.2</td>\n",
       "    </tr>\n",
       "  </tbody>\n",
       "</table>\n",
       "<p>1067 rows × 5 columns</p>\n",
       "</div>"
      ],
      "text/plain": [
       "      CYLINDERS  ENGINESIZE  FUELCONSUMPTION_COMB  FUELCONSUMPTION_CITY  \\\n",
       "0             4         2.0                   8.5                   9.9   \n",
       "1             4         2.4                   9.6                  11.2   \n",
       "2             4         1.5                   5.9                   6.0   \n",
       "3             6         3.5                  11.1                  12.7   \n",
       "4             6         3.5                  10.6                  12.1   \n",
       "...         ...         ...                   ...                   ...   \n",
       "1062          6         3.0                  11.8                  13.4   \n",
       "1063          6         3.2                  11.5                  13.2   \n",
       "1064          6         3.0                  11.8                  13.4   \n",
       "1065          6         3.2                  11.3                  12.9   \n",
       "1066          6         3.2                  12.8                  14.9   \n",
       "\n",
       "      FUELCONSUMPTION_HWY  \n",
       "0                     6.7  \n",
       "1                     7.7  \n",
       "2                     5.8  \n",
       "3                     9.1  \n",
       "4                     8.7  \n",
       "...                   ...  \n",
       "1062                  9.8  \n",
       "1063                  9.5  \n",
       "1064                  9.8  \n",
       "1065                  9.3  \n",
       "1066                 10.2  \n",
       "\n",
       "[1067 rows x 5 columns]"
      ]
     },
     "execution_count": 78,
     "metadata": {},
     "output_type": "execute_result"
    }
   ],
   "source": [
    "X"
   ]
  },
  {
   "cell_type": "code",
   "execution_count": 81,
   "metadata": {},
   "outputs": [
    {
     "data": {
      "text/plain": [
       "array([[196],\n",
       "       [221],\n",
       "       [136],\n",
       "       ...,\n",
       "       [271],\n",
       "       [260],\n",
       "       [294]], dtype=int64)"
      ]
     },
     "execution_count": 81,
     "metadata": {},
     "output_type": "execute_result"
    }
   ],
   "source": []
  },
  {
   "cell_type": "code",
   "execution_count": 82,
   "metadata": {
    "scrolled": true
   },
   "outputs": [
    {
     "name": "stdout",
     "output_type": "stream",
     "text": [
      "[[  7.65914224  10.8547316   31.14100197 -11.21595269 -10.47231908]]\n"
     ]
    }
   ],
   "source": [
    "reg = LinearRegression()\n",
    "reg.fit(X_train, y_train)\n",
    "\n",
    "print(reg_multiple.coef_)\n",
    "\n"
   ]
  },
  {
   "cell_type": "code",
   "execution_count": 83,
   "metadata": {},
   "outputs": [
    {
     "name": "stdout",
     "output_type": "stream",
     "text": [
      "The linear model is: Y1 = 64.881 + 7.6591*CYLINDERS + 10.855*ENGINESIZE + 31.141*FUELCONSUMPTION_COMB + -11.216*FUELCONSUMPTION_CITY + -10.472*FUELCONSUMPTION_HWY\n"
     ]
    }
   ],
   "source": [
    "print(\"The linear model is: Y1 = {:.5} + {:.5}*CYLINDERS + {:.5}*ENGINESIZE + {:.5}*FUELCONSUMPTION_COMB + {:.5}*FUELCONSUMPTION_CITY + {:.5}*FUELCONSUMPTION_HWY\".format(reg_multiple.intercept_[0], reg_multiple.coef_[0][0], reg_multiple.coef_[0][1], reg_multiple.coef_[0][2], reg_multiple.coef_[0][3], reg_multiple.coef_[0][4]) )"
   ]
  },
  {
   "cell_type": "code",
   "execution_count": 88,
   "metadata": {},
   "outputs": [
    {
     "name": "stdout",
     "output_type": "stream",
     "text": [
      "Residual sum of squares (RSS): 219764.39\n",
      "Mean absolute error (MAE): 18.02\n",
      "Mean square error (MSE): 617.32\n",
      "Root mean square error (RMSE): 24.85\n"
     ]
    }
   ],
   "source": [
    "y_pred = reg.predict(X_test)\n",
    "print(\"Residual sum of squares (RSS): %.2f\" % sum((y_pred - y_test) ** 2))\n",
    "print(\"Mean absolute error (MAE): %.2f\" % np.mean(abs(y_pred - y_test)))\n",
    "print(\"Mean square error (MSE): %.2f\" % np.mean((y_pred - y_test) ** 2))\n",
    "print(\"Root mean square error (RMSE): %.2f\" % np.sqrt(np.mean((y_pred - y_test) ** 2)))"
   ]
  },
  {
   "cell_type": "markdown",
   "metadata": {},
   "source": [
    "**Analysis**"
   ]
  },
  {
   "cell_type": "markdown",
   "metadata": {},
   "source": [
    "- When we considered the 5 parameters interms of 3, the error is reduced from **219936** to  **219764**. And we able to slightly improve our model. "
   ]
  },
  {
   "cell_type": "code",
   "execution_count": null,
   "metadata": {},
   "outputs": [],
   "source": []
  }
 ],
 "metadata": {
  "kernelspec": {
   "display_name": "Python 3",
   "language": "python",
   "name": "python3"
  },
  "language_info": {
   "codemirror_mode": {
    "name": "ipython",
    "version": 3
   },
   "file_extension": ".py",
   "mimetype": "text/x-python",
   "name": "python",
   "nbconvert_exporter": "python",
   "pygments_lexer": "ipython3",
   "version": "3.8.5"
  },
  "toc": {
   "base_numbering": 1,
   "nav_menu": {},
   "number_sections": true,
   "sideBar": true,
   "skip_h1_title": false,
   "title_cell": "Table of Contents",
   "title_sidebar": "Contents",
   "toc_cell": false,
   "toc_position": {},
   "toc_section_display": true,
   "toc_window_display": false
  }
 },
 "nbformat": 4,
 "nbformat_minor": 4
}
