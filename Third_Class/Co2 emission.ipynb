{
 "cells": [
  {
   "cell_type": "markdown",
   "metadata": {},
   "source": [
    "# ML Course 3 - Assignment"
   ]
  },
  {
   "cell_type": "markdown",
   "metadata": {},
   "source": [
    "### Subject"
   ]
  },
  {
   "cell_type": "markdown",
   "metadata": {},
   "source": [
    "**`FuelConsumption.csv`** is a vehicle fuel consumption data set that contains model-specific fuel consumption.\n",
    "-   **MODELYEAR** e.g. 2014\n",
    "-   **MAKE** e.g. Acura\n",
    "-   **MODEL** e.g. ILX\n",
    "-   **VEHICLE CLASS** e.g. SUV\n",
    "-   **ENGINE SIZE** e.g. 4.7\n",
    "-   **CYLINDERS** e.g 6\n",
    "-   **TRANSMISSION** e.g. A6\n",
    "-   **FUEL CONSUMPTION in CITY(L/100 km)** e.g. 9.9\n",
    "-   **FUEL CONSUMPTION in HWY (L/100 km)** e.g. 8.9\n",
    "-   **FUEL CONSUMPTION COMB (L/100 km)** e.g. 9.2\n",
    "-   **CO2 EMISSIONS (g/km)** e.g. 182   --> low --> 0"
   ]
  },
  {
   "cell_type": "code",
   "execution_count": 3,
   "metadata": {},
   "outputs": [],
   "source": [
    "import numpy as np\n",
    "import pandas as pd\n",
    "import sklearn \n",
    "\n",
    "import seaborn as sns\n",
    "import matplotlib.pyplot as plt\n",
    "%matplotlib inline"
   ]
  },
  {
   "cell_type": "code",
   "execution_count": 4,
   "metadata": {},
   "outputs": [],
   "source": [
    "data = pd.read_csv(\"FuelConsumption.csv\")"
   ]
  },
  {
   "cell_type": "code",
   "execution_count": 5,
   "metadata": {},
   "outputs": [
    {
     "data": {
      "text/html": [
       "<div>\n",
       "<style scoped>\n",
       "    .dataframe tbody tr th:only-of-type {\n",
       "        vertical-align: middle;\n",
       "    }\n",
       "\n",
       "    .dataframe tbody tr th {\n",
       "        vertical-align: top;\n",
       "    }\n",
       "\n",
       "    .dataframe thead th {\n",
       "        text-align: right;\n",
       "    }\n",
       "</style>\n",
       "<table border=\"1\" class=\"dataframe\">\n",
       "  <thead>\n",
       "    <tr style=\"text-align: right;\">\n",
       "      <th></th>\n",
       "      <th>MODELYEAR</th>\n",
       "      <th>MAKE</th>\n",
       "      <th>MODEL</th>\n",
       "      <th>VEHICLECLASS</th>\n",
       "      <th>ENGINESIZE</th>\n",
       "      <th>CYLINDERS</th>\n",
       "      <th>TRANSMISSION</th>\n",
       "      <th>FUELTYPE</th>\n",
       "      <th>FUELCONSUMPTION_CITY</th>\n",
       "      <th>FUELCONSUMPTION_HWY</th>\n",
       "      <th>FUELCONSUMPTION_COMB</th>\n",
       "      <th>FUELCONSUMPTION_COMB_MPG</th>\n",
       "      <th>CO2EMISSIONS</th>\n",
       "    </tr>\n",
       "  </thead>\n",
       "  <tbody>\n",
       "    <tr>\n",
       "      <th>835</th>\n",
       "      <td>2014</td>\n",
       "      <td>NISSAN</td>\n",
       "      <td>370Z ROADSTER</td>\n",
       "      <td>TWO-SEATER</td>\n",
       "      <td>3.7</td>\n",
       "      <td>6</td>\n",
       "      <td>M6</td>\n",
       "      <td>Z</td>\n",
       "      <td>13.5</td>\n",
       "      <td>9.6</td>\n",
       "      <td>11.7</td>\n",
       "      <td>24</td>\n",
       "      <td>269</td>\n",
       "    </tr>\n",
       "    <tr>\n",
       "      <th>397</th>\n",
       "      <td>2014</td>\n",
       "      <td>FORD</td>\n",
       "      <td>FLEX</td>\n",
       "      <td>SUV - STANDARD</td>\n",
       "      <td>3.5</td>\n",
       "      <td>6</td>\n",
       "      <td>AS6</td>\n",
       "      <td>X</td>\n",
       "      <td>13.2</td>\n",
       "      <td>9.4</td>\n",
       "      <td>11.5</td>\n",
       "      <td>25</td>\n",
       "      <td>264</td>\n",
       "    </tr>\n",
       "    <tr>\n",
       "      <th>816</th>\n",
       "      <td>2014</td>\n",
       "      <td>MITSUBISHI</td>\n",
       "      <td>LANCER</td>\n",
       "      <td>COMPACT</td>\n",
       "      <td>2.0</td>\n",
       "      <td>4</td>\n",
       "      <td>AV6</td>\n",
       "      <td>X</td>\n",
       "      <td>9.2</td>\n",
       "      <td>7.0</td>\n",
       "      <td>8.2</td>\n",
       "      <td>34</td>\n",
       "      <td>189</td>\n",
       "    </tr>\n",
       "    <tr>\n",
       "      <th>194</th>\n",
       "      <td>2014</td>\n",
       "      <td>CHEVROLET</td>\n",
       "      <td>CAMARO ZL1</td>\n",
       "      <td>COMPACT</td>\n",
       "      <td>6.2</td>\n",
       "      <td>8</td>\n",
       "      <td>M6</td>\n",
       "      <td>Z</td>\n",
       "      <td>16.7</td>\n",
       "      <td>12.5</td>\n",
       "      <td>14.8</td>\n",
       "      <td>19</td>\n",
       "      <td>340</td>\n",
       "    </tr>\n",
       "    <tr>\n",
       "      <th>380</th>\n",
       "      <td>2014</td>\n",
       "      <td>FORD</td>\n",
       "      <td>F150 FFV</td>\n",
       "      <td>PICKUP TRUCK - STANDARD</td>\n",
       "      <td>5.0</td>\n",
       "      <td>8</td>\n",
       "      <td>A6</td>\n",
       "      <td>E</td>\n",
       "      <td>22.1</td>\n",
       "      <td>16.7</td>\n",
       "      <td>19.7</td>\n",
       "      <td>14</td>\n",
       "      <td>315</td>\n",
       "    </tr>\n",
       "    <tr>\n",
       "      <th>367</th>\n",
       "      <td>2014</td>\n",
       "      <td>FORD</td>\n",
       "      <td>EXPLORER FFV AWD</td>\n",
       "      <td>SUV - STANDARD</td>\n",
       "      <td>3.5</td>\n",
       "      <td>6</td>\n",
       "      <td>AS6</td>\n",
       "      <td>X</td>\n",
       "      <td>14.3</td>\n",
       "      <td>10.3</td>\n",
       "      <td>12.5</td>\n",
       "      <td>23</td>\n",
       "      <td>288</td>\n",
       "    </tr>\n",
       "  </tbody>\n",
       "</table>\n",
       "</div>"
      ],
      "text/plain": [
       "     MODELYEAR        MAKE             MODEL             VEHICLECLASS  \\\n",
       "835       2014      NISSAN     370Z ROADSTER               TWO-SEATER   \n",
       "397       2014        FORD              FLEX           SUV - STANDARD   \n",
       "816       2014  MITSUBISHI            LANCER                  COMPACT   \n",
       "194       2014   CHEVROLET        CAMARO ZL1                  COMPACT   \n",
       "380       2014        FORD          F150 FFV  PICKUP TRUCK - STANDARD   \n",
       "367       2014        FORD  EXPLORER FFV AWD           SUV - STANDARD   \n",
       "\n",
       "     ENGINESIZE  CYLINDERS TRANSMISSION FUELTYPE  FUELCONSUMPTION_CITY  \\\n",
       "835         3.7          6           M6        Z                  13.5   \n",
       "397         3.5          6          AS6        X                  13.2   \n",
       "816         2.0          4          AV6        X                   9.2   \n",
       "194         6.2          8           M6        Z                  16.7   \n",
       "380         5.0          8           A6        E                  22.1   \n",
       "367         3.5          6          AS6        X                  14.3   \n",
       "\n",
       "     FUELCONSUMPTION_HWY  FUELCONSUMPTION_COMB  FUELCONSUMPTION_COMB_MPG  \\\n",
       "835                  9.6                  11.7                        24   \n",
       "397                  9.4                  11.5                        25   \n",
       "816                  7.0                   8.2                        34   \n",
       "194                 12.5                  14.8                        19   \n",
       "380                 16.7                  19.7                        14   \n",
       "367                 10.3                  12.5                        23   \n",
       "\n",
       "     CO2EMISSIONS  \n",
       "835           269  \n",
       "397           264  \n",
       "816           189  \n",
       "194           340  \n",
       "380           315  \n",
       "367           288  "
      ]
     },
     "execution_count": 5,
     "metadata": {},
     "output_type": "execute_result"
    }
   ],
   "source": [
    "data.sample(6)"
   ]
  },
  {
   "cell_type": "markdown",
   "metadata": {},
   "source": [
    "* Compute the correlation value between the CO2 emission and the engine size. Do you think that the engine size can be taken as a unique predictor for the CO2 emission? \n",
    "* Plot the CO2 emission with respect to the engine size. Do you think that a linear regression model would fit well here?\n",
    "* Train a linear regression model for the prediction of the CO2 emission based exclusively on the engine size (do not forget the train-test split).\n",
    "* What are the parameters of the regression line? If an engine size is increased by 1 L, what would be the CO2 emission increase as predicted by your model? \n",
    "* Plot the fit line over the data.\n",
    "* Plot the distribution of the residuals (i.e. the error terms).\n",
    "* Compute the model accuracy.\n",
    "* Train a linear regression model for the prediction of the CO2 emission now based exclusively on the combined fuel consumption (FUELCONSUMPTION_COMB) and compute the accuracy. Compare with the accuracy computed at previous point. What can you deduce?"
   ]
  },
  {
   "cell_type": "markdown",
   "metadata": {},
   "source": [
    "Data Inspection"
   ]
  },
  {
   "cell_type": "code",
   "execution_count": 27,
   "metadata": {},
   "outputs": [
    {
     "data": {
      "text/html": [
       "<div>\n",
       "<style scoped>\n",
       "    .dataframe tbody tr th:only-of-type {\n",
       "        vertical-align: middle;\n",
       "    }\n",
       "\n",
       "    .dataframe tbody tr th {\n",
       "        vertical-align: top;\n",
       "    }\n",
       "\n",
       "    .dataframe thead th {\n",
       "        text-align: right;\n",
       "    }\n",
       "</style>\n",
       "<table border=\"1\" class=\"dataframe\">\n",
       "  <thead>\n",
       "    <tr style=\"text-align: right;\">\n",
       "      <th></th>\n",
       "      <th>MAKE</th>\n",
       "      <th>MODEL</th>\n",
       "      <th>VEHICLECLASS</th>\n",
       "      <th>ENGINESIZE</th>\n",
       "      <th>CYLINDERS</th>\n",
       "      <th>TRANSMISSION</th>\n",
       "      <th>FUELTYPE</th>\n",
       "      <th>FUELCONSUMPTION_CITY</th>\n",
       "      <th>FUELCONSUMPTION_HWY</th>\n",
       "      <th>FUELCONSUMPTION_COMB</th>\n",
       "      <th>FUELCONSUMPTION_COMB_MPG</th>\n",
       "      <th>CO2EMISSIONS</th>\n",
       "    </tr>\n",
       "  </thead>\n",
       "  <tbody>\n",
       "    <tr>\n",
       "      <th>0</th>\n",
       "      <td>ACURA</td>\n",
       "      <td>ILX</td>\n",
       "      <td>COMPACT</td>\n",
       "      <td>2.0</td>\n",
       "      <td>4</td>\n",
       "      <td>AS5</td>\n",
       "      <td>Z</td>\n",
       "      <td>9.9</td>\n",
       "      <td>6.7</td>\n",
       "      <td>8.5</td>\n",
       "      <td>33</td>\n",
       "      <td>196</td>\n",
       "    </tr>\n",
       "    <tr>\n",
       "      <th>1</th>\n",
       "      <td>ACURA</td>\n",
       "      <td>ILX</td>\n",
       "      <td>COMPACT</td>\n",
       "      <td>2.4</td>\n",
       "      <td>4</td>\n",
       "      <td>M6</td>\n",
       "      <td>Z</td>\n",
       "      <td>11.2</td>\n",
       "      <td>7.7</td>\n",
       "      <td>9.6</td>\n",
       "      <td>29</td>\n",
       "      <td>221</td>\n",
       "    </tr>\n",
       "    <tr>\n",
       "      <th>2</th>\n",
       "      <td>ACURA</td>\n",
       "      <td>ILX HYBRID</td>\n",
       "      <td>COMPACT</td>\n",
       "      <td>1.5</td>\n",
       "      <td>4</td>\n",
       "      <td>AV7</td>\n",
       "      <td>Z</td>\n",
       "      <td>6.0</td>\n",
       "      <td>5.8</td>\n",
       "      <td>5.9</td>\n",
       "      <td>48</td>\n",
       "      <td>136</td>\n",
       "    </tr>\n",
       "    <tr>\n",
       "      <th>3</th>\n",
       "      <td>ACURA</td>\n",
       "      <td>MDX 4WD</td>\n",
       "      <td>SUV - SMALL</td>\n",
       "      <td>3.5</td>\n",
       "      <td>6</td>\n",
       "      <td>AS6</td>\n",
       "      <td>Z</td>\n",
       "      <td>12.7</td>\n",
       "      <td>9.1</td>\n",
       "      <td>11.1</td>\n",
       "      <td>25</td>\n",
       "      <td>255</td>\n",
       "    </tr>\n",
       "    <tr>\n",
       "      <th>4</th>\n",
       "      <td>ACURA</td>\n",
       "      <td>RDX AWD</td>\n",
       "      <td>SUV - SMALL</td>\n",
       "      <td>3.5</td>\n",
       "      <td>6</td>\n",
       "      <td>AS6</td>\n",
       "      <td>Z</td>\n",
       "      <td>12.1</td>\n",
       "      <td>8.7</td>\n",
       "      <td>10.6</td>\n",
       "      <td>27</td>\n",
       "      <td>244</td>\n",
       "    </tr>\n",
       "  </tbody>\n",
       "</table>\n",
       "</div>"
      ],
      "text/plain": [
       "    MAKE       MODEL VEHICLECLASS  ENGINESIZE  CYLINDERS TRANSMISSION  \\\n",
       "0  ACURA         ILX      COMPACT         2.0          4          AS5   \n",
       "1  ACURA         ILX      COMPACT         2.4          4           M6   \n",
       "2  ACURA  ILX HYBRID      COMPACT         1.5          4          AV7   \n",
       "3  ACURA     MDX 4WD  SUV - SMALL         3.5          6          AS6   \n",
       "4  ACURA     RDX AWD  SUV - SMALL         3.5          6          AS6   \n",
       "\n",
       "  FUELTYPE  FUELCONSUMPTION_CITY  FUELCONSUMPTION_HWY  FUELCONSUMPTION_COMB  \\\n",
       "0        Z                   9.9                  6.7                   8.5   \n",
       "1        Z                  11.2                  7.7                   9.6   \n",
       "2        Z                   6.0                  5.8                   5.9   \n",
       "3        Z                  12.7                  9.1                  11.1   \n",
       "4        Z                  12.1                  8.7                  10.6   \n",
       "\n",
       "   FUELCONSUMPTION_COMB_MPG  CO2EMISSIONS  \n",
       "0                        33           196  \n",
       "1                        29           221  \n",
       "2                        48           136  \n",
       "3                        25           255  \n",
       "4                        27           244  "
      ]
     },
     "execution_count": 27,
     "metadata": {},
     "output_type": "execute_result"
    }
   ],
   "source": [
    "#data = data.drop(['MODELYEAR'], axis=1)\n",
    "data.head()\n"
   ]
  },
  {
   "cell_type": "code",
   "execution_count": 28,
   "metadata": {},
   "outputs": [
    {
     "data": {
      "text/html": [
       "<div>\n",
       "<style scoped>\n",
       "    .dataframe tbody tr th:only-of-type {\n",
       "        vertical-align: middle;\n",
       "    }\n",
       "\n",
       "    .dataframe tbody tr th {\n",
       "        vertical-align: top;\n",
       "    }\n",
       "\n",
       "    .dataframe thead th {\n",
       "        text-align: right;\n",
       "    }\n",
       "</style>\n",
       "<table border=\"1\" class=\"dataframe\">\n",
       "  <thead>\n",
       "    <tr style=\"text-align: right;\">\n",
       "      <th></th>\n",
       "      <th>ENGINESIZE</th>\n",
       "      <th>CYLINDERS</th>\n",
       "      <th>FUELCONSUMPTION_CITY</th>\n",
       "      <th>FUELCONSUMPTION_HWY</th>\n",
       "      <th>FUELCONSUMPTION_COMB</th>\n",
       "      <th>FUELCONSUMPTION_COMB_MPG</th>\n",
       "      <th>CO2EMISSIONS</th>\n",
       "    </tr>\n",
       "  </thead>\n",
       "  <tbody>\n",
       "    <tr>\n",
       "      <th>ENGINESIZE</th>\n",
       "      <td>1.000000</td>\n",
       "      <td>0.934011</td>\n",
       "      <td>0.832225</td>\n",
       "      <td>0.778746</td>\n",
       "      <td>0.819482</td>\n",
       "      <td>-0.808554</td>\n",
       "      <td>0.874154</td>\n",
       "    </tr>\n",
       "    <tr>\n",
       "      <th>CYLINDERS</th>\n",
       "      <td>0.934011</td>\n",
       "      <td>1.000000</td>\n",
       "      <td>0.796473</td>\n",
       "      <td>0.724594</td>\n",
       "      <td>0.776788</td>\n",
       "      <td>-0.770430</td>\n",
       "      <td>0.849685</td>\n",
       "    </tr>\n",
       "    <tr>\n",
       "      <th>FUELCONSUMPTION_CITY</th>\n",
       "      <td>0.832225</td>\n",
       "      <td>0.796473</td>\n",
       "      <td>1.000000</td>\n",
       "      <td>0.965718</td>\n",
       "      <td>0.995542</td>\n",
       "      <td>-0.935613</td>\n",
       "      <td>0.898039</td>\n",
       "    </tr>\n",
       "    <tr>\n",
       "      <th>FUELCONSUMPTION_HWY</th>\n",
       "      <td>0.778746</td>\n",
       "      <td>0.724594</td>\n",
       "      <td>0.965718</td>\n",
       "      <td>1.000000</td>\n",
       "      <td>0.985804</td>\n",
       "      <td>-0.893809</td>\n",
       "      <td>0.861748</td>\n",
       "    </tr>\n",
       "    <tr>\n",
       "      <th>FUELCONSUMPTION_COMB</th>\n",
       "      <td>0.819482</td>\n",
       "      <td>0.776788</td>\n",
       "      <td>0.995542</td>\n",
       "      <td>0.985804</td>\n",
       "      <td>1.000000</td>\n",
       "      <td>-0.927965</td>\n",
       "      <td>0.892129</td>\n",
       "    </tr>\n",
       "    <tr>\n",
       "      <th>FUELCONSUMPTION_COMB_MPG</th>\n",
       "      <td>-0.808554</td>\n",
       "      <td>-0.770430</td>\n",
       "      <td>-0.935613</td>\n",
       "      <td>-0.893809</td>\n",
       "      <td>-0.927965</td>\n",
       "      <td>1.000000</td>\n",
       "      <td>-0.906394</td>\n",
       "    </tr>\n",
       "    <tr>\n",
       "      <th>CO2EMISSIONS</th>\n",
       "      <td>0.874154</td>\n",
       "      <td>0.849685</td>\n",
       "      <td>0.898039</td>\n",
       "      <td>0.861748</td>\n",
       "      <td>0.892129</td>\n",
       "      <td>-0.906394</td>\n",
       "      <td>1.000000</td>\n",
       "    </tr>\n",
       "  </tbody>\n",
       "</table>\n",
       "</div>"
      ],
      "text/plain": [
       "                          ENGINESIZE  CYLINDERS  FUELCONSUMPTION_CITY  \\\n",
       "ENGINESIZE                  1.000000   0.934011              0.832225   \n",
       "CYLINDERS                   0.934011   1.000000              0.796473   \n",
       "FUELCONSUMPTION_CITY        0.832225   0.796473              1.000000   \n",
       "FUELCONSUMPTION_HWY         0.778746   0.724594              0.965718   \n",
       "FUELCONSUMPTION_COMB        0.819482   0.776788              0.995542   \n",
       "FUELCONSUMPTION_COMB_MPG   -0.808554  -0.770430             -0.935613   \n",
       "CO2EMISSIONS                0.874154   0.849685              0.898039   \n",
       "\n",
       "                          FUELCONSUMPTION_HWY  FUELCONSUMPTION_COMB  \\\n",
       "ENGINESIZE                           0.778746              0.819482   \n",
       "CYLINDERS                            0.724594              0.776788   \n",
       "FUELCONSUMPTION_CITY                 0.965718              0.995542   \n",
       "FUELCONSUMPTION_HWY                  1.000000              0.985804   \n",
       "FUELCONSUMPTION_COMB                 0.985804              1.000000   \n",
       "FUELCONSUMPTION_COMB_MPG            -0.893809             -0.927965   \n",
       "CO2EMISSIONS                         0.861748              0.892129   \n",
       "\n",
       "                          FUELCONSUMPTION_COMB_MPG  CO2EMISSIONS  \n",
       "ENGINESIZE                               -0.808554      0.874154  \n",
       "CYLINDERS                                -0.770430      0.849685  \n",
       "FUELCONSUMPTION_CITY                     -0.935613      0.898039  \n",
       "FUELCONSUMPTION_HWY                      -0.893809      0.861748  \n",
       "FUELCONSUMPTION_COMB                     -0.927965      0.892129  \n",
       "FUELCONSUMPTION_COMB_MPG                  1.000000     -0.906394  \n",
       "CO2EMISSIONS                             -0.906394      1.000000  "
      ]
     },
     "execution_count": 28,
     "metadata": {},
     "output_type": "execute_result"
    }
   ],
   "source": [
    "correlation = data.corr()\n",
    "correlation"
   ]
  },
  {
   "cell_type": "code",
   "execution_count": 29,
   "metadata": {},
   "outputs": [
    {
     "data": {
      "text/html": [
       "<style  type=\"text/css\" >\n",
       "#T_87c736c2_dcc2_11eb_9dc4_0c7a15168b1crow0_col0,#T_87c736c2_dcc2_11eb_9dc4_0c7a15168b1crow1_col1,#T_87c736c2_dcc2_11eb_9dc4_0c7a15168b1crow2_col2,#T_87c736c2_dcc2_11eb_9dc4_0c7a15168b1crow2_col4,#T_87c736c2_dcc2_11eb_9dc4_0c7a15168b1crow3_col3,#T_87c736c2_dcc2_11eb_9dc4_0c7a15168b1crow4_col2,#T_87c736c2_dcc2_11eb_9dc4_0c7a15168b1crow4_col4,#T_87c736c2_dcc2_11eb_9dc4_0c7a15168b1crow5_col5,#T_87c736c2_dcc2_11eb_9dc4_0c7a15168b1crow6_col6{\n",
       "            background-color:  #b40426;\n",
       "            color:  #f1f1f1;\n",
       "        }#T_87c736c2_dcc2_11eb_9dc4_0c7a15168b1crow0_col1,#T_87c736c2_dcc2_11eb_9dc4_0c7a15168b1crow1_col0{\n",
       "            background-color:  #c12b30;\n",
       "            color:  #f1f1f1;\n",
       "        }#T_87c736c2_dcc2_11eb_9dc4_0c7a15168b1crow0_col2{\n",
       "            background-color:  #d24b40;\n",
       "            color:  #f1f1f1;\n",
       "        }#T_87c736c2_dcc2_11eb_9dc4_0c7a15168b1crow0_col3,#T_87c736c2_dcc2_11eb_9dc4_0c7a15168b1crow1_col4,#T_87c736c2_dcc2_11eb_9dc4_0c7a15168b1crow2_col1{\n",
       "            background-color:  #da5a49;\n",
       "            color:  #000000;\n",
       "        }#T_87c736c2_dcc2_11eb_9dc4_0c7a15168b1crow0_col4,#T_87c736c2_dcc2_11eb_9dc4_0c7a15168b1crow2_col0{\n",
       "            background-color:  #d44e41;\n",
       "            color:  #000000;\n",
       "        }#T_87c736c2_dcc2_11eb_9dc4_0c7a15168b1crow0_col5{\n",
       "            background-color:  #4e68d8;\n",
       "            color:  #000000;\n",
       "        }#T_87c736c2_dcc2_11eb_9dc4_0c7a15168b1crow0_col6{\n",
       "            background-color:  #cb3e38;\n",
       "            color:  #f1f1f1;\n",
       "        }#T_87c736c2_dcc2_11eb_9dc4_0c7a15168b1crow1_col2{\n",
       "            background-color:  #d75445;\n",
       "            color:  #000000;\n",
       "        }#T_87c736c2_dcc2_11eb_9dc4_0c7a15168b1crow1_col3{\n",
       "            background-color:  #e36b54;\n",
       "            color:  #000000;\n",
       "        }#T_87c736c2_dcc2_11eb_9dc4_0c7a15168b1crow1_col5{\n",
       "            background-color:  #5470de;\n",
       "            color:  #000000;\n",
       "        }#T_87c736c2_dcc2_11eb_9dc4_0c7a15168b1crow1_col6{\n",
       "            background-color:  #d0473d;\n",
       "            color:  #f1f1f1;\n",
       "        }#T_87c736c2_dcc2_11eb_9dc4_0c7a15168b1crow2_col3,#T_87c736c2_dcc2_11eb_9dc4_0c7a15168b1crow3_col2{\n",
       "            background-color:  #ba162b;\n",
       "            color:  #f1f1f1;\n",
       "        }#T_87c736c2_dcc2_11eb_9dc4_0c7a15168b1crow2_col5,#T_87c736c2_dcc2_11eb_9dc4_0c7a15168b1crow5_col0,#T_87c736c2_dcc2_11eb_9dc4_0c7a15168b1crow5_col1,#T_87c736c2_dcc2_11eb_9dc4_0c7a15168b1crow5_col2,#T_87c736c2_dcc2_11eb_9dc4_0c7a15168b1crow5_col3,#T_87c736c2_dcc2_11eb_9dc4_0c7a15168b1crow5_col4,#T_87c736c2_dcc2_11eb_9dc4_0c7a15168b1crow5_col6{\n",
       "            background-color:  #3b4cc0;\n",
       "            color:  #f1f1f1;\n",
       "        }#T_87c736c2_dcc2_11eb_9dc4_0c7a15168b1crow2_col6,#T_87c736c2_dcc2_11eb_9dc4_0c7a15168b1crow6_col2{\n",
       "            background-color:  #c73635;\n",
       "            color:  #f1f1f1;\n",
       "        }#T_87c736c2_dcc2_11eb_9dc4_0c7a15168b1crow3_col0{\n",
       "            background-color:  #dd5f4b;\n",
       "            color:  #000000;\n",
       "        }#T_87c736c2_dcc2_11eb_9dc4_0c7a15168b1crow3_col1{\n",
       "            background-color:  #e46e56;\n",
       "            color:  #000000;\n",
       "        }#T_87c736c2_dcc2_11eb_9dc4_0c7a15168b1crow3_col4,#T_87c736c2_dcc2_11eb_9dc4_0c7a15168b1crow4_col3{\n",
       "            background-color:  #b50927;\n",
       "            color:  #f1f1f1;\n",
       "        }#T_87c736c2_dcc2_11eb_9dc4_0c7a15168b1crow3_col5{\n",
       "            background-color:  #4055c8;\n",
       "            color:  #f1f1f1;\n",
       "        }#T_87c736c2_dcc2_11eb_9dc4_0c7a15168b1crow3_col6,#T_87c736c2_dcc2_11eb_9dc4_0c7a15168b1crow6_col3{\n",
       "            background-color:  #cd423b;\n",
       "            color:  #f1f1f1;\n",
       "        }#T_87c736c2_dcc2_11eb_9dc4_0c7a15168b1crow4_col0{\n",
       "            background-color:  #d65244;\n",
       "            color:  #000000;\n",
       "        }#T_87c736c2_dcc2_11eb_9dc4_0c7a15168b1crow4_col1{\n",
       "            background-color:  #de614d;\n",
       "            color:  #000000;\n",
       "        }#T_87c736c2_dcc2_11eb_9dc4_0c7a15168b1crow4_col5{\n",
       "            background-color:  #3c4ec2;\n",
       "            color:  #f1f1f1;\n",
       "        }#T_87c736c2_dcc2_11eb_9dc4_0c7a15168b1crow4_col6,#T_87c736c2_dcc2_11eb_9dc4_0c7a15168b1crow6_col4{\n",
       "            background-color:  #c83836;\n",
       "            color:  #f1f1f1;\n",
       "        }#T_87c736c2_dcc2_11eb_9dc4_0c7a15168b1crow6_col0{\n",
       "            background-color:  #cc403a;\n",
       "            color:  #f1f1f1;\n",
       "        }#T_87c736c2_dcc2_11eb_9dc4_0c7a15168b1crow6_col1{\n",
       "            background-color:  #d1493f;\n",
       "            color:  #f1f1f1;\n",
       "        }#T_87c736c2_dcc2_11eb_9dc4_0c7a15168b1crow6_col5{\n",
       "            background-color:  #3e51c5;\n",
       "            color:  #f1f1f1;\n",
       "        }</style><table id=\"T_87c736c2_dcc2_11eb_9dc4_0c7a15168b1c\" ><thead>    <tr>        <th class=\"blank level0\" ></th>        <th class=\"col_heading level0 col0\" >ENGINESIZE</th>        <th class=\"col_heading level0 col1\" >CYLINDERS</th>        <th class=\"col_heading level0 col2\" >FUELCONSUMPTION_CITY</th>        <th class=\"col_heading level0 col3\" >FUELCONSUMPTION_HWY</th>        <th class=\"col_heading level0 col4\" >FUELCONSUMPTION_COMB</th>        <th class=\"col_heading level0 col5\" >FUELCONSUMPTION_COMB_MPG</th>        <th class=\"col_heading level0 col6\" >CO2EMISSIONS</th>    </tr></thead><tbody>\n",
       "                <tr>\n",
       "                        <th id=\"T_87c736c2_dcc2_11eb_9dc4_0c7a15168b1clevel0_row0\" class=\"row_heading level0 row0\" >ENGINESIZE</th>\n",
       "                        <td id=\"T_87c736c2_dcc2_11eb_9dc4_0c7a15168b1crow0_col0\" class=\"data row0 col0\" >1.000000</td>\n",
       "                        <td id=\"T_87c736c2_dcc2_11eb_9dc4_0c7a15168b1crow0_col1\" class=\"data row0 col1\" >0.934011</td>\n",
       "                        <td id=\"T_87c736c2_dcc2_11eb_9dc4_0c7a15168b1crow0_col2\" class=\"data row0 col2\" >0.832225</td>\n",
       "                        <td id=\"T_87c736c2_dcc2_11eb_9dc4_0c7a15168b1crow0_col3\" class=\"data row0 col3\" >0.778746</td>\n",
       "                        <td id=\"T_87c736c2_dcc2_11eb_9dc4_0c7a15168b1crow0_col4\" class=\"data row0 col4\" >0.819482</td>\n",
       "                        <td id=\"T_87c736c2_dcc2_11eb_9dc4_0c7a15168b1crow0_col5\" class=\"data row0 col5\" >-0.808554</td>\n",
       "                        <td id=\"T_87c736c2_dcc2_11eb_9dc4_0c7a15168b1crow0_col6\" class=\"data row0 col6\" >0.874154</td>\n",
       "            </tr>\n",
       "            <tr>\n",
       "                        <th id=\"T_87c736c2_dcc2_11eb_9dc4_0c7a15168b1clevel0_row1\" class=\"row_heading level0 row1\" >CYLINDERS</th>\n",
       "                        <td id=\"T_87c736c2_dcc2_11eb_9dc4_0c7a15168b1crow1_col0\" class=\"data row1 col0\" >0.934011</td>\n",
       "                        <td id=\"T_87c736c2_dcc2_11eb_9dc4_0c7a15168b1crow1_col1\" class=\"data row1 col1\" >1.000000</td>\n",
       "                        <td id=\"T_87c736c2_dcc2_11eb_9dc4_0c7a15168b1crow1_col2\" class=\"data row1 col2\" >0.796473</td>\n",
       "                        <td id=\"T_87c736c2_dcc2_11eb_9dc4_0c7a15168b1crow1_col3\" class=\"data row1 col3\" >0.724594</td>\n",
       "                        <td id=\"T_87c736c2_dcc2_11eb_9dc4_0c7a15168b1crow1_col4\" class=\"data row1 col4\" >0.776788</td>\n",
       "                        <td id=\"T_87c736c2_dcc2_11eb_9dc4_0c7a15168b1crow1_col5\" class=\"data row1 col5\" >-0.770430</td>\n",
       "                        <td id=\"T_87c736c2_dcc2_11eb_9dc4_0c7a15168b1crow1_col6\" class=\"data row1 col6\" >0.849685</td>\n",
       "            </tr>\n",
       "            <tr>\n",
       "                        <th id=\"T_87c736c2_dcc2_11eb_9dc4_0c7a15168b1clevel0_row2\" class=\"row_heading level0 row2\" >FUELCONSUMPTION_CITY</th>\n",
       "                        <td id=\"T_87c736c2_dcc2_11eb_9dc4_0c7a15168b1crow2_col0\" class=\"data row2 col0\" >0.832225</td>\n",
       "                        <td id=\"T_87c736c2_dcc2_11eb_9dc4_0c7a15168b1crow2_col1\" class=\"data row2 col1\" >0.796473</td>\n",
       "                        <td id=\"T_87c736c2_dcc2_11eb_9dc4_0c7a15168b1crow2_col2\" class=\"data row2 col2\" >1.000000</td>\n",
       "                        <td id=\"T_87c736c2_dcc2_11eb_9dc4_0c7a15168b1crow2_col3\" class=\"data row2 col3\" >0.965718</td>\n",
       "                        <td id=\"T_87c736c2_dcc2_11eb_9dc4_0c7a15168b1crow2_col4\" class=\"data row2 col4\" >0.995542</td>\n",
       "                        <td id=\"T_87c736c2_dcc2_11eb_9dc4_0c7a15168b1crow2_col5\" class=\"data row2 col5\" >-0.935613</td>\n",
       "                        <td id=\"T_87c736c2_dcc2_11eb_9dc4_0c7a15168b1crow2_col6\" class=\"data row2 col6\" >0.898039</td>\n",
       "            </tr>\n",
       "            <tr>\n",
       "                        <th id=\"T_87c736c2_dcc2_11eb_9dc4_0c7a15168b1clevel0_row3\" class=\"row_heading level0 row3\" >FUELCONSUMPTION_HWY</th>\n",
       "                        <td id=\"T_87c736c2_dcc2_11eb_9dc4_0c7a15168b1crow3_col0\" class=\"data row3 col0\" >0.778746</td>\n",
       "                        <td id=\"T_87c736c2_dcc2_11eb_9dc4_0c7a15168b1crow3_col1\" class=\"data row3 col1\" >0.724594</td>\n",
       "                        <td id=\"T_87c736c2_dcc2_11eb_9dc4_0c7a15168b1crow3_col2\" class=\"data row3 col2\" >0.965718</td>\n",
       "                        <td id=\"T_87c736c2_dcc2_11eb_9dc4_0c7a15168b1crow3_col3\" class=\"data row3 col3\" >1.000000</td>\n",
       "                        <td id=\"T_87c736c2_dcc2_11eb_9dc4_0c7a15168b1crow3_col4\" class=\"data row3 col4\" >0.985804</td>\n",
       "                        <td id=\"T_87c736c2_dcc2_11eb_9dc4_0c7a15168b1crow3_col5\" class=\"data row3 col5\" >-0.893809</td>\n",
       "                        <td id=\"T_87c736c2_dcc2_11eb_9dc4_0c7a15168b1crow3_col6\" class=\"data row3 col6\" >0.861748</td>\n",
       "            </tr>\n",
       "            <tr>\n",
       "                        <th id=\"T_87c736c2_dcc2_11eb_9dc4_0c7a15168b1clevel0_row4\" class=\"row_heading level0 row4\" >FUELCONSUMPTION_COMB</th>\n",
       "                        <td id=\"T_87c736c2_dcc2_11eb_9dc4_0c7a15168b1crow4_col0\" class=\"data row4 col0\" >0.819482</td>\n",
       "                        <td id=\"T_87c736c2_dcc2_11eb_9dc4_0c7a15168b1crow4_col1\" class=\"data row4 col1\" >0.776788</td>\n",
       "                        <td id=\"T_87c736c2_dcc2_11eb_9dc4_0c7a15168b1crow4_col2\" class=\"data row4 col2\" >0.995542</td>\n",
       "                        <td id=\"T_87c736c2_dcc2_11eb_9dc4_0c7a15168b1crow4_col3\" class=\"data row4 col3\" >0.985804</td>\n",
       "                        <td id=\"T_87c736c2_dcc2_11eb_9dc4_0c7a15168b1crow4_col4\" class=\"data row4 col4\" >1.000000</td>\n",
       "                        <td id=\"T_87c736c2_dcc2_11eb_9dc4_0c7a15168b1crow4_col5\" class=\"data row4 col5\" >-0.927965</td>\n",
       "                        <td id=\"T_87c736c2_dcc2_11eb_9dc4_0c7a15168b1crow4_col6\" class=\"data row4 col6\" >0.892129</td>\n",
       "            </tr>\n",
       "            <tr>\n",
       "                        <th id=\"T_87c736c2_dcc2_11eb_9dc4_0c7a15168b1clevel0_row5\" class=\"row_heading level0 row5\" >FUELCONSUMPTION_COMB_MPG</th>\n",
       "                        <td id=\"T_87c736c2_dcc2_11eb_9dc4_0c7a15168b1crow5_col0\" class=\"data row5 col0\" >-0.808554</td>\n",
       "                        <td id=\"T_87c736c2_dcc2_11eb_9dc4_0c7a15168b1crow5_col1\" class=\"data row5 col1\" >-0.770430</td>\n",
       "                        <td id=\"T_87c736c2_dcc2_11eb_9dc4_0c7a15168b1crow5_col2\" class=\"data row5 col2\" >-0.935613</td>\n",
       "                        <td id=\"T_87c736c2_dcc2_11eb_9dc4_0c7a15168b1crow5_col3\" class=\"data row5 col3\" >-0.893809</td>\n",
       "                        <td id=\"T_87c736c2_dcc2_11eb_9dc4_0c7a15168b1crow5_col4\" class=\"data row5 col4\" >-0.927965</td>\n",
       "                        <td id=\"T_87c736c2_dcc2_11eb_9dc4_0c7a15168b1crow5_col5\" class=\"data row5 col5\" >1.000000</td>\n",
       "                        <td id=\"T_87c736c2_dcc2_11eb_9dc4_0c7a15168b1crow5_col6\" class=\"data row5 col6\" >-0.906394</td>\n",
       "            </tr>\n",
       "            <tr>\n",
       "                        <th id=\"T_87c736c2_dcc2_11eb_9dc4_0c7a15168b1clevel0_row6\" class=\"row_heading level0 row6\" >CO2EMISSIONS</th>\n",
       "                        <td id=\"T_87c736c2_dcc2_11eb_9dc4_0c7a15168b1crow6_col0\" class=\"data row6 col0\" >0.874154</td>\n",
       "                        <td id=\"T_87c736c2_dcc2_11eb_9dc4_0c7a15168b1crow6_col1\" class=\"data row6 col1\" >0.849685</td>\n",
       "                        <td id=\"T_87c736c2_dcc2_11eb_9dc4_0c7a15168b1crow6_col2\" class=\"data row6 col2\" >0.898039</td>\n",
       "                        <td id=\"T_87c736c2_dcc2_11eb_9dc4_0c7a15168b1crow6_col3\" class=\"data row6 col3\" >0.861748</td>\n",
       "                        <td id=\"T_87c736c2_dcc2_11eb_9dc4_0c7a15168b1crow6_col4\" class=\"data row6 col4\" >0.892129</td>\n",
       "                        <td id=\"T_87c736c2_dcc2_11eb_9dc4_0c7a15168b1crow6_col5\" class=\"data row6 col5\" >-0.906394</td>\n",
       "                        <td id=\"T_87c736c2_dcc2_11eb_9dc4_0c7a15168b1crow6_col6\" class=\"data row6 col6\" >1.000000</td>\n",
       "            </tr>\n",
       "    </tbody></table>"
      ],
      "text/plain": [
       "<pandas.io.formats.style.Styler at 0x1bb4d98edf0>"
      ]
     },
     "execution_count": 29,
     "metadata": {},
     "output_type": "execute_result"
    }
   ],
   "source": [
    "correlation.style.background_gradient(cmap='coolwarm')"
   ]
  },
  {
   "cell_type": "code",
   "execution_count": 31,
   "metadata": {
    "scrolled": true
   },
   "outputs": [
    {
     "data": {
      "text/html": [
       "<style  type=\"text/css\" >\n",
       "#T_906d8017_dcc2_11eb_b1f0_0c7a15168b1crow0_col0,#T_906d8017_dcc2_11eb_b1f0_0c7a15168b1crow0_col1,#T_906d8017_dcc2_11eb_b1f0_0c7a15168b1crow0_col2,#T_906d8017_dcc2_11eb_b1f0_0c7a15168b1crow0_col3,#T_906d8017_dcc2_11eb_b1f0_0c7a15168b1crow0_col4,#T_906d8017_dcc2_11eb_b1f0_0c7a15168b1crow0_col5,#T_906d8017_dcc2_11eb_b1f0_0c7a15168b1crow0_col6,#T_906d8017_dcc2_11eb_b1f0_0c7a15168b1crow1_col1,#T_906d8017_dcc2_11eb_b1f0_0c7a15168b1crow1_col2,#T_906d8017_dcc2_11eb_b1f0_0c7a15168b1crow1_col3,#T_906d8017_dcc2_11eb_b1f0_0c7a15168b1crow1_col4,#T_906d8017_dcc2_11eb_b1f0_0c7a15168b1crow1_col5,#T_906d8017_dcc2_11eb_b1f0_0c7a15168b1crow1_col6,#T_906d8017_dcc2_11eb_b1f0_0c7a15168b1crow2_col2,#T_906d8017_dcc2_11eb_b1f0_0c7a15168b1crow2_col3,#T_906d8017_dcc2_11eb_b1f0_0c7a15168b1crow2_col4,#T_906d8017_dcc2_11eb_b1f0_0c7a15168b1crow2_col5,#T_906d8017_dcc2_11eb_b1f0_0c7a15168b1crow2_col6,#T_906d8017_dcc2_11eb_b1f0_0c7a15168b1crow3_col3,#T_906d8017_dcc2_11eb_b1f0_0c7a15168b1crow3_col4,#T_906d8017_dcc2_11eb_b1f0_0c7a15168b1crow3_col5,#T_906d8017_dcc2_11eb_b1f0_0c7a15168b1crow3_col6,#T_906d8017_dcc2_11eb_b1f0_0c7a15168b1crow4_col4,#T_906d8017_dcc2_11eb_b1f0_0c7a15168b1crow4_col5,#T_906d8017_dcc2_11eb_b1f0_0c7a15168b1crow4_col6,#T_906d8017_dcc2_11eb_b1f0_0c7a15168b1crow5_col5,#T_906d8017_dcc2_11eb_b1f0_0c7a15168b1crow5_col6,#T_906d8017_dcc2_11eb_b1f0_0c7a15168b1crow6_col6{\n",
       "            background-color:  #000000;\n",
       "            color:  #f1f1f1;\n",
       "            background-color:  #f1f1f1;\n",
       "        }#T_906d8017_dcc2_11eb_b1f0_0c7a15168b1crow1_col0{\n",
       "            background-color:  #c0282f;\n",
       "            color:  #f1f1f1;\n",
       "        }#T_906d8017_dcc2_11eb_b1f0_0c7a15168b1crow2_col0{\n",
       "            background-color:  #d1493f;\n",
       "            color:  #f1f1f1;\n",
       "        }#T_906d8017_dcc2_11eb_b1f0_0c7a15168b1crow2_col1{\n",
       "            background-color:  #d75445;\n",
       "            color:  #000000;\n",
       "        }#T_906d8017_dcc2_11eb_b1f0_0c7a15168b1crow3_col0,#T_906d8017_dcc2_11eb_b1f0_0c7a15168b1crow4_col1{\n",
       "            background-color:  #d95847;\n",
       "            color:  #000000;\n",
       "        }#T_906d8017_dcc2_11eb_b1f0_0c7a15168b1crow3_col1{\n",
       "            background-color:  #e16751;\n",
       "            color:  #000000;\n",
       "        }#T_906d8017_dcc2_11eb_b1f0_0c7a15168b1crow3_col2{\n",
       "            background-color:  #ba162b;\n",
       "            color:  #f1f1f1;\n",
       "        }#T_906d8017_dcc2_11eb_b1f0_0c7a15168b1crow4_col0{\n",
       "            background-color:  #d44e41;\n",
       "            color:  #000000;\n",
       "        }#T_906d8017_dcc2_11eb_b1f0_0c7a15168b1crow4_col2{\n",
       "            background-color:  #b40426;\n",
       "            color:  #f1f1f1;\n",
       "        }#T_906d8017_dcc2_11eb_b1f0_0c7a15168b1crow4_col3{\n",
       "            background-color:  #b50927;\n",
       "            color:  #f1f1f1;\n",
       "        }#T_906d8017_dcc2_11eb_b1f0_0c7a15168b1crow5_col0{\n",
       "            background-color:  #5875e1;\n",
       "            color:  #000000;\n",
       "        }#T_906d8017_dcc2_11eb_b1f0_0c7a15168b1crow5_col1{\n",
       "            background-color:  #5e7de7;\n",
       "            color:  #000000;\n",
       "        }#T_906d8017_dcc2_11eb_b1f0_0c7a15168b1crow5_col2{\n",
       "            background-color:  #445acc;\n",
       "            color:  #f1f1f1;\n",
       "        }#T_906d8017_dcc2_11eb_b1f0_0c7a15168b1crow5_col3{\n",
       "            background-color:  #4a63d3;\n",
       "            color:  #f1f1f1;\n",
       "        }#T_906d8017_dcc2_11eb_b1f0_0c7a15168b1crow5_col4{\n",
       "            background-color:  #455cce;\n",
       "            color:  #f1f1f1;\n",
       "        }#T_906d8017_dcc2_11eb_b1f0_0c7a15168b1crow6_col0{\n",
       "            background-color:  #cb3e38;\n",
       "            color:  #f1f1f1;\n",
       "        }#T_906d8017_dcc2_11eb_b1f0_0c7a15168b1crow6_col1{\n",
       "            background-color:  #cf453c;\n",
       "            color:  #f1f1f1;\n",
       "        }#T_906d8017_dcc2_11eb_b1f0_0c7a15168b1crow6_col2,#T_906d8017_dcc2_11eb_b1f0_0c7a15168b1crow6_col4{\n",
       "            background-color:  #c73635;\n",
       "            color:  #f1f1f1;\n",
       "        }#T_906d8017_dcc2_11eb_b1f0_0c7a15168b1crow6_col3{\n",
       "            background-color:  #cc403a;\n",
       "            color:  #f1f1f1;\n",
       "        }#T_906d8017_dcc2_11eb_b1f0_0c7a15168b1crow6_col5{\n",
       "            background-color:  #485fd1;\n",
       "            color:  #f1f1f1;\n",
       "        }</style><table id=\"T_906d8017_dcc2_11eb_b1f0_0c7a15168b1c\" ><thead>    <tr>        <th class=\"blank level0\" ></th>        <th class=\"col_heading level0 col0\" >ENGINESIZE</th>        <th class=\"col_heading level0 col1\" >CYLINDERS</th>        <th class=\"col_heading level0 col2\" >FUELCONSUMPTION_CITY</th>        <th class=\"col_heading level0 col3\" >FUELCONSUMPTION_HWY</th>        <th class=\"col_heading level0 col4\" >FUELCONSUMPTION_COMB</th>        <th class=\"col_heading level0 col5\" >FUELCONSUMPTION_COMB_MPG</th>        <th class=\"col_heading level0 col6\" >CO2EMISSIONS</th>    </tr></thead><tbody>\n",
       "                <tr>\n",
       "                        <th id=\"T_906d8017_dcc2_11eb_b1f0_0c7a15168b1clevel0_row0\" class=\"row_heading level0 row0\" >ENGINESIZE</th>\n",
       "                        <td id=\"T_906d8017_dcc2_11eb_b1f0_0c7a15168b1crow0_col0\" class=\"data row0 col0\" >nan</td>\n",
       "                        <td id=\"T_906d8017_dcc2_11eb_b1f0_0c7a15168b1crow0_col1\" class=\"data row0 col1\" >nan</td>\n",
       "                        <td id=\"T_906d8017_dcc2_11eb_b1f0_0c7a15168b1crow0_col2\" class=\"data row0 col2\" >nan</td>\n",
       "                        <td id=\"T_906d8017_dcc2_11eb_b1f0_0c7a15168b1crow0_col3\" class=\"data row0 col3\" >nan</td>\n",
       "                        <td id=\"T_906d8017_dcc2_11eb_b1f0_0c7a15168b1crow0_col4\" class=\"data row0 col4\" >nan</td>\n",
       "                        <td id=\"T_906d8017_dcc2_11eb_b1f0_0c7a15168b1crow0_col5\" class=\"data row0 col5\" >nan</td>\n",
       "                        <td id=\"T_906d8017_dcc2_11eb_b1f0_0c7a15168b1crow0_col6\" class=\"data row0 col6\" >nan</td>\n",
       "            </tr>\n",
       "            <tr>\n",
       "                        <th id=\"T_906d8017_dcc2_11eb_b1f0_0c7a15168b1clevel0_row1\" class=\"row_heading level0 row1\" >CYLINDERS</th>\n",
       "                        <td id=\"T_906d8017_dcc2_11eb_b1f0_0c7a15168b1crow1_col0\" class=\"data row1 col0\" >0.93</td>\n",
       "                        <td id=\"T_906d8017_dcc2_11eb_b1f0_0c7a15168b1crow1_col1\" class=\"data row1 col1\" >nan</td>\n",
       "                        <td id=\"T_906d8017_dcc2_11eb_b1f0_0c7a15168b1crow1_col2\" class=\"data row1 col2\" >nan</td>\n",
       "                        <td id=\"T_906d8017_dcc2_11eb_b1f0_0c7a15168b1crow1_col3\" class=\"data row1 col3\" >nan</td>\n",
       "                        <td id=\"T_906d8017_dcc2_11eb_b1f0_0c7a15168b1crow1_col4\" class=\"data row1 col4\" >nan</td>\n",
       "                        <td id=\"T_906d8017_dcc2_11eb_b1f0_0c7a15168b1crow1_col5\" class=\"data row1 col5\" >nan</td>\n",
       "                        <td id=\"T_906d8017_dcc2_11eb_b1f0_0c7a15168b1crow1_col6\" class=\"data row1 col6\" >nan</td>\n",
       "            </tr>\n",
       "            <tr>\n",
       "                        <th id=\"T_906d8017_dcc2_11eb_b1f0_0c7a15168b1clevel0_row2\" class=\"row_heading level0 row2\" >FUELCONSUMPTION_CITY</th>\n",
       "                        <td id=\"T_906d8017_dcc2_11eb_b1f0_0c7a15168b1crow2_col0\" class=\"data row2 col0\" >0.83</td>\n",
       "                        <td id=\"T_906d8017_dcc2_11eb_b1f0_0c7a15168b1crow2_col1\" class=\"data row2 col1\" >0.80</td>\n",
       "                        <td id=\"T_906d8017_dcc2_11eb_b1f0_0c7a15168b1crow2_col2\" class=\"data row2 col2\" >nan</td>\n",
       "                        <td id=\"T_906d8017_dcc2_11eb_b1f0_0c7a15168b1crow2_col3\" class=\"data row2 col3\" >nan</td>\n",
       "                        <td id=\"T_906d8017_dcc2_11eb_b1f0_0c7a15168b1crow2_col4\" class=\"data row2 col4\" >nan</td>\n",
       "                        <td id=\"T_906d8017_dcc2_11eb_b1f0_0c7a15168b1crow2_col5\" class=\"data row2 col5\" >nan</td>\n",
       "                        <td id=\"T_906d8017_dcc2_11eb_b1f0_0c7a15168b1crow2_col6\" class=\"data row2 col6\" >nan</td>\n",
       "            </tr>\n",
       "            <tr>\n",
       "                        <th id=\"T_906d8017_dcc2_11eb_b1f0_0c7a15168b1clevel0_row3\" class=\"row_heading level0 row3\" >FUELCONSUMPTION_HWY</th>\n",
       "                        <td id=\"T_906d8017_dcc2_11eb_b1f0_0c7a15168b1crow3_col0\" class=\"data row3 col0\" >0.78</td>\n",
       "                        <td id=\"T_906d8017_dcc2_11eb_b1f0_0c7a15168b1crow3_col1\" class=\"data row3 col1\" >0.72</td>\n",
       "                        <td id=\"T_906d8017_dcc2_11eb_b1f0_0c7a15168b1crow3_col2\" class=\"data row3 col2\" >0.97</td>\n",
       "                        <td id=\"T_906d8017_dcc2_11eb_b1f0_0c7a15168b1crow3_col3\" class=\"data row3 col3\" >nan</td>\n",
       "                        <td id=\"T_906d8017_dcc2_11eb_b1f0_0c7a15168b1crow3_col4\" class=\"data row3 col4\" >nan</td>\n",
       "                        <td id=\"T_906d8017_dcc2_11eb_b1f0_0c7a15168b1crow3_col5\" class=\"data row3 col5\" >nan</td>\n",
       "                        <td id=\"T_906d8017_dcc2_11eb_b1f0_0c7a15168b1crow3_col6\" class=\"data row3 col6\" >nan</td>\n",
       "            </tr>\n",
       "            <tr>\n",
       "                        <th id=\"T_906d8017_dcc2_11eb_b1f0_0c7a15168b1clevel0_row4\" class=\"row_heading level0 row4\" >FUELCONSUMPTION_COMB</th>\n",
       "                        <td id=\"T_906d8017_dcc2_11eb_b1f0_0c7a15168b1crow4_col0\" class=\"data row4 col0\" >0.82</td>\n",
       "                        <td id=\"T_906d8017_dcc2_11eb_b1f0_0c7a15168b1crow4_col1\" class=\"data row4 col1\" >0.78</td>\n",
       "                        <td id=\"T_906d8017_dcc2_11eb_b1f0_0c7a15168b1crow4_col2\" class=\"data row4 col2\" >1.00</td>\n",
       "                        <td id=\"T_906d8017_dcc2_11eb_b1f0_0c7a15168b1crow4_col3\" class=\"data row4 col3\" >0.99</td>\n",
       "                        <td id=\"T_906d8017_dcc2_11eb_b1f0_0c7a15168b1crow4_col4\" class=\"data row4 col4\" >nan</td>\n",
       "                        <td id=\"T_906d8017_dcc2_11eb_b1f0_0c7a15168b1crow4_col5\" class=\"data row4 col5\" >nan</td>\n",
       "                        <td id=\"T_906d8017_dcc2_11eb_b1f0_0c7a15168b1crow4_col6\" class=\"data row4 col6\" >nan</td>\n",
       "            </tr>\n",
       "            <tr>\n",
       "                        <th id=\"T_906d8017_dcc2_11eb_b1f0_0c7a15168b1clevel0_row5\" class=\"row_heading level0 row5\" >FUELCONSUMPTION_COMB_MPG</th>\n",
       "                        <td id=\"T_906d8017_dcc2_11eb_b1f0_0c7a15168b1crow5_col0\" class=\"data row5 col0\" >-0.81</td>\n",
       "                        <td id=\"T_906d8017_dcc2_11eb_b1f0_0c7a15168b1crow5_col1\" class=\"data row5 col1\" >-0.77</td>\n",
       "                        <td id=\"T_906d8017_dcc2_11eb_b1f0_0c7a15168b1crow5_col2\" class=\"data row5 col2\" >-0.94</td>\n",
       "                        <td id=\"T_906d8017_dcc2_11eb_b1f0_0c7a15168b1crow5_col3\" class=\"data row5 col3\" >-0.89</td>\n",
       "                        <td id=\"T_906d8017_dcc2_11eb_b1f0_0c7a15168b1crow5_col4\" class=\"data row5 col4\" >-0.93</td>\n",
       "                        <td id=\"T_906d8017_dcc2_11eb_b1f0_0c7a15168b1crow5_col5\" class=\"data row5 col5\" >nan</td>\n",
       "                        <td id=\"T_906d8017_dcc2_11eb_b1f0_0c7a15168b1crow5_col6\" class=\"data row5 col6\" >nan</td>\n",
       "            </tr>\n",
       "            <tr>\n",
       "                        <th id=\"T_906d8017_dcc2_11eb_b1f0_0c7a15168b1clevel0_row6\" class=\"row_heading level0 row6\" >CO2EMISSIONS</th>\n",
       "                        <td id=\"T_906d8017_dcc2_11eb_b1f0_0c7a15168b1crow6_col0\" class=\"data row6 col0\" >0.87</td>\n",
       "                        <td id=\"T_906d8017_dcc2_11eb_b1f0_0c7a15168b1crow6_col1\" class=\"data row6 col1\" >0.85</td>\n",
       "                        <td id=\"T_906d8017_dcc2_11eb_b1f0_0c7a15168b1crow6_col2\" class=\"data row6 col2\" >0.90</td>\n",
       "                        <td id=\"T_906d8017_dcc2_11eb_b1f0_0c7a15168b1crow6_col3\" class=\"data row6 col3\" >0.86</td>\n",
       "                        <td id=\"T_906d8017_dcc2_11eb_b1f0_0c7a15168b1crow6_col4\" class=\"data row6 col4\" >0.89</td>\n",
       "                        <td id=\"T_906d8017_dcc2_11eb_b1f0_0c7a15168b1crow6_col5\" class=\"data row6 col5\" >-0.91</td>\n",
       "                        <td id=\"T_906d8017_dcc2_11eb_b1f0_0c7a15168b1crow6_col6\" class=\"data row6 col6\" >nan</td>\n",
       "            </tr>\n",
       "    </tbody></table>"
      ],
      "text/plain": [
       "<pandas.io.formats.style.Styler at 0x1bb4dc3d1f0>"
      ]
     },
     "execution_count": 31,
     "metadata": {},
     "output_type": "execute_result"
    }
   ],
   "source": [
    "mask = np.zeros_like(correlation, dtype=bool)\n",
    "mask[np.triu_indices_from(mask)] = True\n",
    "correlation[mask] = np.nan\n",
    "(correlation\n",
    " .style\n",
    " .background_gradient(cmap='coolwarm', axis=None, vmin=-1, vmax=1)\n",
    " .highlight_null(null_color='#f1f1f1')  # Color NaNs grey\n",
    " .set_precision(2))"
   ]
  },
  {
   "cell_type": "markdown",
   "metadata": {},
   "source": [
    "**Same chart**"
   ]
  },
  {
   "cell_type": "code",
   "execution_count": 32,
   "metadata": {},
   "outputs": [
    {
     "data": {
      "image/png": "[encoded data removed]",
      "text/plain": [
       "<Figure size 432x288 with 2 Axes>"
      ]
     },
     "metadata": {
      "needs_background": "light"
     },
     "output_type": "display_data"
    }
   ],
   "source": [
    "mask = np.zeros_like(correlation, dtype=np.bool)\n",
    "mask[np.triu_indices_from(mask)] = True  # Mask to keep only one half of the symetrical matrix\n",
    "sns.heatmap(correlation,\n",
    "            vmin=-1,\n",
    "            vmax=1,\n",
    "            cmap='coolwarm',\n",
    "            mask = mask,\n",
    "            linewidths=0.1)\n",
    "plt.show()"
   ]
  },
  {
   "cell_type": "code",
   "execution_count": 33,
   "metadata": {
    "scrolled": false
   },
   "outputs": [
    {
     "data": {
      "image/png": "[encoded data removed]",
      "text/plain": [
       "<Figure size 800x480 with 1 Axes>"
      ]
     },
     "metadata": {
      "needs_background": "light"
     },
     "output_type": "display_data"
    }
   ],
   "source": [
    "plt.figure(figsize=(10,6), dpi= 80)\n",
    "plt.scatter(data['ENGINESIZE'], data['CO2EMISSIONS'], c='black')\n",
    "plt.xlabel(\"ENGINESIZE\")\n",
    "plt.ylabel(\"CO2EMISSIONS\")\n",
    "plt.show()"
   ]
  },
  {
   "cell_type": "code",
   "execution_count": 34,
   "metadata": {},
   "outputs": [
    {
     "data": {
      "image/png": "[encoded data removed]",
      "text/plain": [
       "<Figure size 800x480 with 1 Axes>"
      ]
     },
     "metadata": {
      "needs_background": "light"
     },
     "output_type": "display_data"
    }
   ],
   "source": [
    "plt.figure(figsize=(10,6), dpi= 80)\n",
    "plt.scatter(data['CO2EMISSIONS'], data['FUELCONSUMPTION_COMB'], c='black')\n",
    "plt.xlabel(\"FUELCONSUMPTION_COMB\")\n",
    "plt.ylabel(\"CO2EMISSIONS\")\n",
    "plt.show()"
   ]
  },
  {
   "cell_type": "code",
   "execution_count": 35,
   "metadata": {},
   "outputs": [
    {
     "data": {
      "image/png": "[encoded data removed]",
      "text/plain": [
       "<Figure size 800x480 with 1 Axes>"
      ]
     },
     "metadata": {
      "needs_background": "light"
     },
     "output_type": "display_data"
    }
   ],
   "source": [
    "\n",
    "plt.figure(figsize=(10,6), dpi= 80)\n",
    "plt.scatter(data['CYLINDERS'], data['CO2EMISSIONS'], c='black')\n",
    "plt.xlabel(\"CYLINDERS\")\n",
    "plt.ylabel(\"CO2EMISSIONS\")\n",
    "plt.show()"
   ]
  },
  {
   "cell_type": "markdown",
   "metadata": {},
   "source": [
    "## Simple linear regression"
   ]
  },
  {
   "cell_type": "markdown",
   "metadata": {},
   "source": [
    "We notice that engine size is correlated with the \"Co2 Emission\""
   ]
  },
  {
   "cell_type": "markdown",
   "metadata": {},
   "source": [
    "### Data Preparation"
   ]
  },
  {
   "cell_type": "code",
   "execution_count": 36,
   "metadata": {},
   "outputs": [],
   "source": [
    "X = data['ENGINESIZE'].values.reshape(-1,1)\n",
    "y = data['CO2EMISSIONS'].values.reshape(-1,1)"
   ]
  },
  {
   "cell_type": "code",
   "execution_count": 37,
   "metadata": {},
   "outputs": [],
   "source": [
    "from sklearn.model_selection import train_test_split\n",
    "X_train, X_test, y_train, y_test = train_test_split(X, y, test_size = 1/3, random_state = 0)"
   ]
  },
  {
   "cell_type": "markdown",
   "metadata": {},
   "source": [
    "### Linear regression fitting\n"
   ]
  },
  {
   "cell_type": "code",
   "execution_count": 38,
   "metadata": {},
   "outputs": [
    {
     "data": {
      "text/plain": [
       "LinearRegression()"
      ]
     },
     "execution_count": 38,
     "metadata": {},
     "output_type": "execute_result"
    }
   ],
   "source": [
    "from sklearn.linear_model import LinearRegression\n",
    "regressor = LinearRegression()\n",
    "regressor.fit(X_train, y_train)"
   ]
  },
  {
   "cell_type": "markdown",
   "metadata": {},
   "source": [
    "We can check the parameters of the model (estimations of beta_0 and beta_1):"
   ]
  },
  {
   "cell_type": "code",
   "execution_count": 39,
   "metadata": {},
   "outputs": [
    {
     "name": "stdout",
     "output_type": "stream",
     "text": [
      "[125.07790675]\n"
     ]
    }
   ],
   "source": [
    "print(regressor.intercept_)"
   ]
  },
  {
   "cell_type": "code",
   "execution_count": 40,
   "metadata": {},
   "outputs": [
    {
     "name": "stdout",
     "output_type": "stream",
     "text": [
      "[[39.85725417]]\n"
     ]
    }
   ],
   "source": [
    "print(regressor.coef_)"
   ]
  },
  {
   "cell_type": "markdown",
   "metadata": {},
   "source": [
    "### Making predictions"
   ]
  },
  {
   "cell_type": "markdown",
   "metadata": {},
   "source": [
    "Now we can make predictions. Example: prediction of Co2 Emission for engine size 10 on CO2 emission."
   ]
  },
  {
   "cell_type": "code",
   "execution_count": 41,
   "metadata": {
    "scrolled": true
   },
   "outputs": [
    {
     "name": "stdout",
     "output_type": "stream",
     "text": [
      "523.6504484866252\n"
     ]
    }
   ],
   "source": [
    "print(regressor.intercept_[0] + regressor.coef_[0][0] * 10)"
   ]
  },
  {
   "cell_type": "code",
   "execution_count": 42,
   "metadata": {
    "scrolled": true
   },
   "outputs": [
    {
     "name": "stdout",
     "output_type": "stream",
     "text": [
      "[[523.65044849]]\n"
     ]
    }
   ],
   "source": [
    "print(regressor.predict([[10]]))"
   ]
  },
  {
   "cell_type": "markdown",
   "metadata": {},
   "source": [
    "We plot the prediction line."
   ]
  },
  {
   "cell_type": "code",
   "execution_count": 43,
   "metadata": {},
   "outputs": [
    {
     "data": {
      "image/png": "[encoded data removed]",
      "text/plain": [
       "<Figure size 800x480 with 1 Axes>"
      ]
     },
     "metadata": {
      "needs_background": "light"
     },
     "output_type": "display_data"
    }
   ],
   "source": [
    "X_plot = np.arange(0,12,1).reshape(-1, 1)\n",
    "y_plot = regressor.predict(X_plot)\n",
    "\n",
    "plt.figure(figsize=(10,6), dpi= 80)\n",
    "plt.scatter(X_train, y_train, c='lightgray', label='training set')\n",
    "plt.scatter(X_test, y_test, c='black', label='test set')\n",
    "plt.plot(X_plot, y_plot, c='blue', label='regression line', linewidth=2)\n",
    "plt.xlabel(\"Engine Size\")\n",
    "plt.ylabel(\"Co2 Emission\")\n",
    "plt.legend()\n",
    "plt.show()"
   ]
  },
  {
   "cell_type": "markdown",
   "metadata": {},
   "source": [
    "### Model performance assessment"
   ]
  },
  {
   "cell_type": "code",
   "execution_count": 44,
   "metadata": {},
   "outputs": [
    {
     "name": "stdout",
     "output_type": "stream",
     "text": [
      "Residual sum of squares (RSS): 373781.28\n",
      "Mean absolute error (MAE): 24.86\n",
      "Mean square error (MSE): 1049.95\n",
      "Root mean square error (RMSE): 32.40\n"
     ]
    }
   ],
   "source": [
    "y_pred = regressor.predict(X_test)\n",
    "print(\"Residual sum of squares (RSS): %.2f\" % sum((y_pred - y_test) ** 2))\n",
    "print(\"Mean absolute error (MAE): %.2f\" % np.mean(abs(y_pred - y_test)))\n",
    "print(\"Mean square error (MSE): %.2f\" % np.mean((y_pred - y_test) ** 2))\n",
    "print(\"Root mean square error (RMSE): %.2f\" % np.sqrt(np.mean((y_pred - y_test) ** 2)))"
   ]
  },
  {
   "cell_type": "markdown",
   "metadata": {},
   "source": [
    "## Comparing model with Combustion"
   ]
  },
  {
   "cell_type": "code",
   "execution_count": null,
   "metadata": {
    "scrolled": true
   },
   "outputs": [],
   "source": []
  },
  {
   "cell_type": "code",
   "execution_count": 45,
   "metadata": {},
   "outputs": [],
   "source": [
    "X = data['FUELCONSUMPTION_COMB'].values.reshape(-1,1)\n",
    "y = data['CO2EMISSIONS'].values.reshape(-1,1)"
   ]
  },
  {
   "cell_type": "code",
   "execution_count": 46,
   "metadata": {},
   "outputs": [],
   "source": [
    "from sklearn.model_selection import train_test_split\n",
    "X_train, X_test, y_train, y_test = train_test_split(X, y, test_size = 1/3, random_state = 0)"
   ]
  },
  {
   "cell_type": "code",
   "execution_count": 47,
   "metadata": {},
   "outputs": [
    {
     "data": {
      "text/plain": [
       "LinearRegression()"
      ]
     },
     "execution_count": 47,
     "metadata": {},
     "output_type": "execute_result"
    }
   ],
   "source": [
    "from sklearn.linear_model import LinearRegression\n",
    "regressor = LinearRegression()\n",
    "regressor.fit(X_train, y_train)"
   ]
  },
  {
   "cell_type": "code",
   "execution_count": 48,
   "metadata": {},
   "outputs": [
    {
     "name": "stdout",
     "output_type": "stream",
     "text": [
      "[66.98908391]\n"
     ]
    }
   ],
   "source": [
    "print(regressor.intercept_)"
   ]
  },
  {
   "cell_type": "code",
   "execution_count": 49,
   "metadata": {},
   "outputs": [
    {
     "name": "stdout",
     "output_type": "stream",
     "text": [
      "[[16.46357725]]\n"
     ]
    }
   ],
   "source": [
    "print(regressor.coef_)"
   ]
  },
  {
   "cell_type": "code",
   "execution_count": 50,
   "metadata": {},
   "outputs": [
    {
     "name": "stdout",
     "output_type": "stream",
     "text": [
      "725.5321738365967\n"
     ]
    }
   ],
   "source": [
    "print(regressor.intercept_[0] + regressor.coef_[0][0] * 40)"
   ]
  },
  {
   "cell_type": "code",
   "execution_count": 51,
   "metadata": {},
   "outputs": [
    {
     "data": {
      "image/png": "[encoded data removed]",
      "text/plain": [
       "<Figure size 800x480 with 1 Axes>"
      ]
     },
     "metadata": {
      "needs_background": "light"
     },
     "output_type": "display_data"
    }
   ],
   "source": [
    "plt.figure(figsize=(10,6), dpi= 80)\n",
    "plt.scatter(data['FUELCONSUMPTION_COMB'], data['CO2EMISSIONS'], c='black')\n",
    "plt.xlabel(\"Combustion of fuel in highway and City (Combined)\")\n",
    "plt.ylabel(\"CO2EMISSIONS\")\n",
    "plt.show()"
   ]
  },
  {
   "cell_type": "code",
   "execution_count": 52,
   "metadata": {},
   "outputs": [
    {
     "name": "stdout",
     "output_type": "stream",
     "text": [
      "Residual sum of squares (RSS): 309995.19\n",
      "Mean absolute error (MAE): 20.34\n",
      "Mean square error (MSE): 870.77\n",
      "Root mean square error (RMSE): 29.51\n"
     ]
    }
   ],
   "source": [
    "y_pred = regressor.predict(X_test)\n",
    "print(\"Residual sum of squares (RSS): %.2f\" % sum((y_pred - y_test) ** 2))\n",
    "print(\"Mean absolute error (MAE): %.2f\" % np.mean(abs(y_pred - y_test)))\n",
    "print(\"Mean square error (MSE): %.2f\" % np.mean((y_pred - y_test) ** 2))\n",
    "print(\"Root mean square error (RMSE): %.2f\" % np.sqrt(np.mean((y_pred - y_test) ** 2)))"
   ]
  },
  {
   "cell_type": "code",
   "execution_count": null,
   "metadata": {},
   "outputs": [],
   "source": []
  }
 ],
 "metadata": {
  "kernelspec": {
   "display_name": "Python 3",
   "language": "python",
   "name": "python3"
  },
  "language_info": {
   "codemirror_mode": {
    "name": "ipython",
    "version": 3
   },
   "file_extension": ".py",
   "mimetype": "text/x-python",
   "name": "python",
   "nbconvert_exporter": "python",
   "pygments_lexer": "ipython3",
   "version": "3.8.5"
  },
  "toc": {
   "base_numbering": 1,
   "nav_menu": {},
   "number_sections": true,
   "sideBar": true,
   "skip_h1_title": false,
   "title_cell": "Table of Contents",
   "title_sidebar": "Contents",
   "toc_cell": false,
   "toc_position": {},
   "toc_section_display": true,
   "toc_window_display": false
  }
 },
 "nbformat": 4,
 "nbformat_minor": 4
}
